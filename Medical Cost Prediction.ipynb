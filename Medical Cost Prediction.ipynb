{
 "cells": [
  {
   "cell_type": "markdown",
   "metadata": {},
   "source": [
    "## 1. Introduction \n",
    "\n",
    "#### XYZ Health Insurance Co. Ltd.\n",
    "**Company Introduction**\n",
    "\n",
    "**XYZ Health Insurance Co. Ltd.** is one of the prominent insurance providers in the country.\n",
    "Offering impressive health plans and services to cater to the needs of different people.\n",
    "The insurance company also provides access to fitness assessment centers, wellness centers, diagnostic centers in addition to hospitalization centers.\n"
   ]
  },
  {
   "cell_type": "markdown",
   "metadata": {},
   "source": [
    "**Current Scenario**\n",
    "\n",
    "The company is planning to introduce a new system that will help to easily monitor and predict the medical insurance prices of their customers.\n"
   ]
  },
  {
   "cell_type": "markdown",
   "metadata": {},
   "source": [
    "## 2. Problem Statement \n",
    "The current process suffers from the following problems:\n",
    "- The company uses manpower to predict the medical expenses of its insurers. Many factors are considered such as age, BMI, smoking habits, number of children, etc.\n",
    "- It is a time and resource-intensive process and many times, inaccurate.\n",
    "- The company plans to modernize its legacy systems and wants to implement an automated way of predicting the medical expenses of its insurers based on various factors."
   ]
  },
  {
   "cell_type": "markdown",
   "metadata": {},
   "source": [
    "## 3.  Project Deliverables\n",
    "\n",
    "- Deliverable: Predicts the medical charges of insurers.\n",
    "- Machine Learning Task: Regression\n",
    "- Target Variable: charges\n",
    "- Win Condition: N/A (best possible model)\n",
    "\n",
    "\n",
    "## 4.  Evaluation Metric\n",
    "- The model evaluation will be based on the R2 score."
   ]
  },
  {
   "cell_type": "code",
   "execution_count": 1,
   "metadata": {},
   "outputs": [],
   "source": [
    "import pandas as pd\n",
    "import numpy as np\n",
    "import matplotlib.pyplot as plt\n",
    "import seaborn as sns"
   ]
  },
  {
   "cell_type": "markdown",
   "metadata": {},
   "source": [
    "### Dataset feature Description"
   ]
  },
  {
   "cell_type": "markdown",
   "metadata": {},
   "source": [
    "|**Column Name**|**Description**|\n",
    "|:--|:--\n",
    "|**age**|Indicates the age of the primary beneficiary|\n",
    "|**sex**|Indicates the gender of the insurance contractor|\n",
    "|**bmi**|Indicates the BMI of the beneficiary|\n",
    "|**children**|Indicates number of children covered by health insurance / Number of dependents|\n",
    "|**smoker**|Indicates whether the beneficiary has smoking habits?|\n",
    "|**region**|Indicates the region of residence of the beneficiary|\n",
    "|**id**|Indicates the unique beneficiary id|\n",
    "|**charges**|Indicates the individual medical costs billed by health insurance|"
   ]
  },
  {
   "cell_type": "code",
   "execution_count": 2,
   "metadata": {},
   "outputs": [
    {
     "data": {
      "text/plain": [
       "(1003, 8)"
      ]
     },
     "execution_count": 2,
     "metadata": {},
     "output_type": "execute_result"
    }
   ],
   "source": [
    "df_train= pd.read_csv('https://raw.githubusercontent.com/smithaprakash91/Machine_Learning_Foundation_Projects/main/train_data.csv')\n",
    "df_train.shape"
   ]
  },
  {
   "cell_type": "code",
   "execution_count": 3,
   "metadata": {},
   "outputs": [
    {
     "data": {
      "text/html": [
       "<div>\n",
       "<style scoped>\n",
       "    .dataframe tbody tr th:only-of-type {\n",
       "        vertical-align: middle;\n",
       "    }\n",
       "\n",
       "    .dataframe tbody tr th {\n",
       "        vertical-align: top;\n",
       "    }\n",
       "\n",
       "    .dataframe thead th {\n",
       "        text-align: right;\n",
       "    }\n",
       "</style>\n",
       "<table border=\"1\" class=\"dataframe\">\n",
       "  <thead>\n",
       "    <tr style=\"text-align: right;\">\n",
       "      <th></th>\n",
       "      <th>age</th>\n",
       "      <th>sex</th>\n",
       "      <th>bmi</th>\n",
       "      <th>children</th>\n",
       "      <th>smoker</th>\n",
       "      <th>region</th>\n",
       "      <th>id</th>\n",
       "      <th>charges</th>\n",
       "    </tr>\n",
       "  </thead>\n",
       "  <tbody>\n",
       "    <tr>\n",
       "      <th>0</th>\n",
       "      <td>24</td>\n",
       "      <td>male</td>\n",
       "      <td>23.655</td>\n",
       "      <td>0</td>\n",
       "      <td>no</td>\n",
       "      <td>northwest</td>\n",
       "      <td>693</td>\n",
       "      <td>2352.96845</td>\n",
       "    </tr>\n",
       "    <tr>\n",
       "      <th>1</th>\n",
       "      <td>28</td>\n",
       "      <td>female</td>\n",
       "      <td>26.510</td>\n",
       "      <td>2</td>\n",
       "      <td>no</td>\n",
       "      <td>southeast</td>\n",
       "      <td>1297</td>\n",
       "      <td>4340.44090</td>\n",
       "    </tr>\n",
       "    <tr>\n",
       "      <th>2</th>\n",
       "      <td>51</td>\n",
       "      <td>male</td>\n",
       "      <td>39.700</td>\n",
       "      <td>1</td>\n",
       "      <td>no</td>\n",
       "      <td>southwest</td>\n",
       "      <td>634</td>\n",
       "      <td>9391.34600</td>\n",
       "    </tr>\n",
       "    <tr>\n",
       "      <th>3</th>\n",
       "      <td>47</td>\n",
       "      <td>male</td>\n",
       "      <td>36.080</td>\n",
       "      <td>1</td>\n",
       "      <td>yes</td>\n",
       "      <td>southeast</td>\n",
       "      <td>1022</td>\n",
       "      <td>42211.13820</td>\n",
       "    </tr>\n",
       "  </tbody>\n",
       "</table>\n",
       "</div>"
      ],
      "text/plain": [
       "   age     sex     bmi  children smoker     region    id      charges\n",
       "0   24    male  23.655         0     no  northwest   693   2352.96845\n",
       "1   28  female  26.510         2     no  southeast  1297   4340.44090\n",
       "2   51    male  39.700         1     no  southwest   634   9391.34600\n",
       "3   47    male  36.080         1    yes  southeast  1022  42211.13820"
      ]
     },
     "execution_count": 3,
     "metadata": {},
     "output_type": "execute_result"
    }
   ],
   "source": [
    "df_train.head(4)"
   ]
  },
  {
   "cell_type": "code",
   "execution_count": 4,
   "metadata": {},
   "outputs": [
    {
     "data": {
      "text/plain": [
       "(335, 7)"
      ]
     },
     "execution_count": 4,
     "metadata": {},
     "output_type": "execute_result"
    }
   ],
   "source": [
    "df_test=pd.read_csv('https://raw.githubusercontent.com/smithaprakash91/Machine_Learning_Foundation_Projects/main/test_data.csv')\n",
    "df_test.shape"
   ]
  },
  {
   "cell_type": "code",
   "execution_count": 5,
   "metadata": {},
   "outputs": [
    {
     "data": {
      "text/html": [
       "<div>\n",
       "<style scoped>\n",
       "    .dataframe tbody tr th:only-of-type {\n",
       "        vertical-align: middle;\n",
       "    }\n",
       "\n",
       "    .dataframe tbody tr th {\n",
       "        vertical-align: top;\n",
       "    }\n",
       "\n",
       "    .dataframe thead th {\n",
       "        text-align: right;\n",
       "    }\n",
       "</style>\n",
       "<table border=\"1\" class=\"dataframe\">\n",
       "  <thead>\n",
       "    <tr style=\"text-align: right;\">\n",
       "      <th></th>\n",
       "      <th>age</th>\n",
       "      <th>sex</th>\n",
       "      <th>bmi</th>\n",
       "      <th>children</th>\n",
       "      <th>smoker</th>\n",
       "      <th>region</th>\n",
       "      <th>id</th>\n",
       "    </tr>\n",
       "  </thead>\n",
       "  <tbody>\n",
       "    <tr>\n",
       "      <th>0</th>\n",
       "      <td>45</td>\n",
       "      <td>female</td>\n",
       "      <td>25.175</td>\n",
       "      <td>2</td>\n",
       "      <td>no</td>\n",
       "      <td>northeast</td>\n",
       "      <td>764</td>\n",
       "    </tr>\n",
       "    <tr>\n",
       "      <th>1</th>\n",
       "      <td>36</td>\n",
       "      <td>female</td>\n",
       "      <td>30.020</td>\n",
       "      <td>0</td>\n",
       "      <td>no</td>\n",
       "      <td>northwest</td>\n",
       "      <td>887</td>\n",
       "    </tr>\n",
       "    <tr>\n",
       "      <th>2</th>\n",
       "      <td>64</td>\n",
       "      <td>female</td>\n",
       "      <td>26.885</td>\n",
       "      <td>0</td>\n",
       "      <td>yes</td>\n",
       "      <td>northwest</td>\n",
       "      <td>890</td>\n",
       "    </tr>\n",
       "    <tr>\n",
       "      <th>3</th>\n",
       "      <td>46</td>\n",
       "      <td>male</td>\n",
       "      <td>25.745</td>\n",
       "      <td>3</td>\n",
       "      <td>no</td>\n",
       "      <td>northwest</td>\n",
       "      <td>1293</td>\n",
       "    </tr>\n",
       "  </tbody>\n",
       "</table>\n",
       "</div>"
      ],
      "text/plain": [
       "   age     sex     bmi  children smoker     region    id\n",
       "0   45  female  25.175         2     no  northeast   764\n",
       "1   36  female  30.020         0     no  northwest   887\n",
       "2   64  female  26.885         0    yes  northwest   890\n",
       "3   46    male  25.745         3     no  northwest  1293"
      ]
     },
     "execution_count": 5,
     "metadata": {},
     "output_type": "execute_result"
    }
   ],
   "source": [
    "df_test.head(4)"
   ]
  },
  {
   "cell_type": "code",
   "execution_count": 6,
   "metadata": {},
   "outputs": [
    {
     "name": "stdout",
     "output_type": "stream",
     "text": [
      "<class 'pandas.core.frame.DataFrame'>\n",
      "RangeIndex: 1003 entries, 0 to 1002\n",
      "Data columns (total 8 columns):\n",
      " #   Column    Non-Null Count  Dtype  \n",
      "---  ------    --------------  -----  \n",
      " 0   age       1003 non-null   int64  \n",
      " 1   sex       1003 non-null   object \n",
      " 2   bmi       1003 non-null   float64\n",
      " 3   children  1003 non-null   int64  \n",
      " 4   smoker    1003 non-null   object \n",
      " 5   region    1003 non-null   object \n",
      " 6   id        1003 non-null   int64  \n",
      " 7   charges   1003 non-null   float64\n",
      "dtypes: float64(2), int64(3), object(3)\n",
      "memory usage: 62.8+ KB\n"
     ]
    }
   ],
   "source": [
    "df_train.info()"
   ]
  },
  {
   "cell_type": "code",
   "execution_count": 7,
   "metadata": {},
   "outputs": [
    {
     "name": "stdout",
     "output_type": "stream",
     "text": [
      "<class 'pandas.core.frame.DataFrame'>\n",
      "RangeIndex: 335 entries, 0 to 334\n",
      "Data columns (total 7 columns):\n",
      " #   Column    Non-Null Count  Dtype  \n",
      "---  ------    --------------  -----  \n",
      " 0   age       335 non-null    int64  \n",
      " 1   sex       335 non-null    object \n",
      " 2   bmi       335 non-null    float64\n",
      " 3   children  335 non-null    int64  \n",
      " 4   smoker    335 non-null    object \n",
      " 5   region    335 non-null    object \n",
      " 6   id        335 non-null    int64  \n",
      "dtypes: float64(1), int64(3), object(3)\n",
      "memory usage: 18.4+ KB\n"
     ]
    }
   ],
   "source": [
    "df_test.info()"
   ]
  },
  {
   "cell_type": "code",
   "execution_count": 8,
   "metadata": {},
   "outputs": [
    {
     "data": {
      "text/plain": [
       "age         0\n",
       "sex         0\n",
       "bmi         0\n",
       "children    0\n",
       "smoker      0\n",
       "region      0\n",
       "id          0\n",
       "charges     0\n",
       "dtype: int64"
      ]
     },
     "execution_count": 8,
     "metadata": {},
     "output_type": "execute_result"
    }
   ],
   "source": [
    "df_train.isnull().sum()"
   ]
  },
  {
   "cell_type": "code",
   "execution_count": 9,
   "metadata": {},
   "outputs": [
    {
     "data": {
      "text/plain": [
       "age         0\n",
       "sex         0\n",
       "bmi         0\n",
       "children    0\n",
       "smoker      0\n",
       "region      0\n",
       "id          0\n",
       "dtype: int64"
      ]
     },
     "execution_count": 9,
     "metadata": {},
     "output_type": "execute_result"
    }
   ],
   "source": [
    "df_test.isnull().sum()"
   ]
  },
  {
   "cell_type": "code",
   "execution_count": 10,
   "metadata": {},
   "outputs": [
    {
     "data": {
      "text/html": [
       "<div>\n",
       "<style scoped>\n",
       "    .dataframe tbody tr th:only-of-type {\n",
       "        vertical-align: middle;\n",
       "    }\n",
       "\n",
       "    .dataframe tbody tr th {\n",
       "        vertical-align: top;\n",
       "    }\n",
       "\n",
       "    .dataframe thead th {\n",
       "        text-align: right;\n",
       "    }\n",
       "</style>\n",
       "<table border=\"1\" class=\"dataframe\">\n",
       "  <thead>\n",
       "    <tr style=\"text-align: right;\">\n",
       "      <th></th>\n",
       "      <th>age</th>\n",
       "      <th>sex</th>\n",
       "      <th>bmi</th>\n",
       "      <th>children</th>\n",
       "      <th>smoker</th>\n",
       "      <th>region</th>\n",
       "      <th>id</th>\n",
       "      <th>charges</th>\n",
       "    </tr>\n",
       "  </thead>\n",
       "  <tbody>\n",
       "    <tr>\n",
       "      <th>count</th>\n",
       "      <td>1003.000000</td>\n",
       "      <td>1003</td>\n",
       "      <td>1003.000000</td>\n",
       "      <td>1003.000000</td>\n",
       "      <td>1003</td>\n",
       "      <td>1003</td>\n",
       "      <td>1003.000000</td>\n",
       "      <td>1003.000000</td>\n",
       "    </tr>\n",
       "    <tr>\n",
       "      <th>unique</th>\n",
       "      <td>NaN</td>\n",
       "      <td>2</td>\n",
       "      <td>NaN</td>\n",
       "      <td>NaN</td>\n",
       "      <td>2</td>\n",
       "      <td>4</td>\n",
       "      <td>NaN</td>\n",
       "      <td>NaN</td>\n",
       "    </tr>\n",
       "    <tr>\n",
       "      <th>top</th>\n",
       "      <td>NaN</td>\n",
       "      <td>male</td>\n",
       "      <td>NaN</td>\n",
       "      <td>NaN</td>\n",
       "      <td>no</td>\n",
       "      <td>southeast</td>\n",
       "      <td>NaN</td>\n",
       "      <td>NaN</td>\n",
       "    </tr>\n",
       "    <tr>\n",
       "      <th>freq</th>\n",
       "      <td>NaN</td>\n",
       "      <td>506</td>\n",
       "      <td>NaN</td>\n",
       "      <td>NaN</td>\n",
       "      <td>797</td>\n",
       "      <td>259</td>\n",
       "      <td>NaN</td>\n",
       "      <td>NaN</td>\n",
       "    </tr>\n",
       "    <tr>\n",
       "      <th>mean</th>\n",
       "      <td>39.255234</td>\n",
       "      <td>NaN</td>\n",
       "      <td>30.511780</td>\n",
       "      <td>1.104686</td>\n",
       "      <td>NaN</td>\n",
       "      <td>NaN</td>\n",
       "      <td>666.874377</td>\n",
       "      <td>13267.935817</td>\n",
       "    </tr>\n",
       "    <tr>\n",
       "      <th>std</th>\n",
       "      <td>14.039105</td>\n",
       "      <td>NaN</td>\n",
       "      <td>6.013107</td>\n",
       "      <td>1.204619</td>\n",
       "      <td>NaN</td>\n",
       "      <td>NaN</td>\n",
       "      <td>386.570442</td>\n",
       "      <td>12051.356547</td>\n",
       "    </tr>\n",
       "    <tr>\n",
       "      <th>min</th>\n",
       "      <td>18.000000</td>\n",
       "      <td>NaN</td>\n",
       "      <td>15.960000</td>\n",
       "      <td>0.000000</td>\n",
       "      <td>NaN</td>\n",
       "      <td>NaN</td>\n",
       "      <td>0.000000</td>\n",
       "      <td>1121.873900</td>\n",
       "    </tr>\n",
       "    <tr>\n",
       "      <th>25%</th>\n",
       "      <td>27.000000</td>\n",
       "      <td>NaN</td>\n",
       "      <td>26.210000</td>\n",
       "      <td>0.000000</td>\n",
       "      <td>NaN</td>\n",
       "      <td>NaN</td>\n",
       "      <td>329.500000</td>\n",
       "      <td>4780.839400</td>\n",
       "    </tr>\n",
       "    <tr>\n",
       "      <th>50%</th>\n",
       "      <td>39.000000</td>\n",
       "      <td>NaN</td>\n",
       "      <td>30.200000</td>\n",
       "      <td>1.000000</td>\n",
       "      <td>NaN</td>\n",
       "      <td>NaN</td>\n",
       "      <td>675.000000</td>\n",
       "      <td>9447.382400</td>\n",
       "    </tr>\n",
       "    <tr>\n",
       "      <th>75%</th>\n",
       "      <td>51.000000</td>\n",
       "      <td>NaN</td>\n",
       "      <td>34.430000</td>\n",
       "      <td>2.000000</td>\n",
       "      <td>NaN</td>\n",
       "      <td>NaN</td>\n",
       "      <td>1001.500000</td>\n",
       "      <td>16840.667970</td>\n",
       "    </tr>\n",
       "    <tr>\n",
       "      <th>max</th>\n",
       "      <td>64.000000</td>\n",
       "      <td>NaN</td>\n",
       "      <td>53.130000</td>\n",
       "      <td>5.000000</td>\n",
       "      <td>NaN</td>\n",
       "      <td>NaN</td>\n",
       "      <td>1337.000000</td>\n",
       "      <td>62592.873090</td>\n",
       "    </tr>\n",
       "  </tbody>\n",
       "</table>\n",
       "</div>"
      ],
      "text/plain": [
       "                age   sex          bmi     children smoker     region  \\\n",
       "count   1003.000000  1003  1003.000000  1003.000000   1003       1003   \n",
       "unique          NaN     2          NaN          NaN      2          4   \n",
       "top             NaN  male          NaN          NaN     no  southeast   \n",
       "freq            NaN   506          NaN          NaN    797        259   \n",
       "mean      39.255234   NaN    30.511780     1.104686    NaN        NaN   \n",
       "std       14.039105   NaN     6.013107     1.204619    NaN        NaN   \n",
       "min       18.000000   NaN    15.960000     0.000000    NaN        NaN   \n",
       "25%       27.000000   NaN    26.210000     0.000000    NaN        NaN   \n",
       "50%       39.000000   NaN    30.200000     1.000000    NaN        NaN   \n",
       "75%       51.000000   NaN    34.430000     2.000000    NaN        NaN   \n",
       "max       64.000000   NaN    53.130000     5.000000    NaN        NaN   \n",
       "\n",
       "                 id       charges  \n",
       "count   1003.000000   1003.000000  \n",
       "unique          NaN           NaN  \n",
       "top             NaN           NaN  \n",
       "freq            NaN           NaN  \n",
       "mean     666.874377  13267.935817  \n",
       "std      386.570442  12051.356547  \n",
       "min        0.000000   1121.873900  \n",
       "25%      329.500000   4780.839400  \n",
       "50%      675.000000   9447.382400  \n",
       "75%     1001.500000  16840.667970  \n",
       "max     1337.000000  62592.873090  "
      ]
     },
     "execution_count": 10,
     "metadata": {},
     "output_type": "execute_result"
    }
   ],
   "source": [
    "df_train.describe(include='all')"
   ]
  },
  {
   "cell_type": "code",
   "execution_count": 11,
   "metadata": {},
   "outputs": [
    {
     "data": {
      "text/plain": [
       "age           int64\n",
       "sex          object\n",
       "bmi         float64\n",
       "children      int64\n",
       "smoker       object\n",
       "region       object\n",
       "id            int64\n",
       "charges     float64\n",
       "dtype: object"
      ]
     },
     "execution_count": 11,
     "metadata": {},
     "output_type": "execute_result"
    }
   ],
   "source": [
    "df_train.dtypes"
   ]
  },
  {
   "cell_type": "code",
   "execution_count": 12,
   "metadata": {},
   "outputs": [
    {
     "data": {
      "text/plain": [
       "male      506\n",
       "female    497\n",
       "Name: sex, dtype: int64"
      ]
     },
     "execution_count": 12,
     "metadata": {},
     "output_type": "execute_result"
    }
   ],
   "source": [
    "df_train['sex'].value_counts()"
   ]
  },
  {
   "cell_type": "code",
   "execution_count": 13,
   "metadata": {},
   "outputs": [
    {
     "data": {
      "text/plain": [
       "no     797\n",
       "yes    206\n",
       "Name: smoker, dtype: int64"
      ]
     },
     "execution_count": 13,
     "metadata": {},
     "output_type": "execute_result"
    }
   ],
   "source": [
    "df_train['smoker'].value_counts()"
   ]
  },
  {
   "cell_type": "code",
   "execution_count": 14,
   "metadata": {},
   "outputs": [
    {
     "data": {
      "text/plain": [
       "southeast    259\n",
       "northeast    251\n",
       "southwest    247\n",
       "northwest    246\n",
       "Name: region, dtype: int64"
      ]
     },
     "execution_count": 14,
     "metadata": {},
     "output_type": "execute_result"
    }
   ],
   "source": [
    "df_train['region'].value_counts()"
   ]
  },
  {
   "cell_type": "code",
   "execution_count": 15,
   "metadata": {},
   "outputs": [],
   "source": [
    "df_train_copy = df_train.copy()"
   ]
  },
  {
   "cell_type": "code",
   "execution_count": 16,
   "metadata": {},
   "outputs": [],
   "source": [
    "#Converting catagorical values into numeric\n",
    "\n",
    "new_data = {'sex':{'male': 0, 'female': 1},\n",
    "           'smoker':{'no':0, 'yes':1},\n",
    "           'region':{'southeast':0, 'northeast':1,'southwest':2,'northwest':3}}\n"
   ]
  },
  {
   "cell_type": "code",
   "execution_count": 17,
   "metadata": {},
   "outputs": [],
   "source": [
    "df_train_copy = df_train.copy()\n",
    "df_train_copy.replace(new_data, inplace=True)"
   ]
  },
  {
   "cell_type": "code",
   "execution_count": 18,
   "metadata": {},
   "outputs": [
    {
     "data": {
      "text/html": [
       "<div>\n",
       "<style scoped>\n",
       "    .dataframe tbody tr th:only-of-type {\n",
       "        vertical-align: middle;\n",
       "    }\n",
       "\n",
       "    .dataframe tbody tr th {\n",
       "        vertical-align: top;\n",
       "    }\n",
       "\n",
       "    .dataframe thead th {\n",
       "        text-align: right;\n",
       "    }\n",
       "</style>\n",
       "<table border=\"1\" class=\"dataframe\">\n",
       "  <thead>\n",
       "    <tr style=\"text-align: right;\">\n",
       "      <th></th>\n",
       "      <th>age</th>\n",
       "      <th>sex</th>\n",
       "      <th>bmi</th>\n",
       "      <th>children</th>\n",
       "      <th>smoker</th>\n",
       "      <th>region</th>\n",
       "      <th>id</th>\n",
       "      <th>charges</th>\n",
       "    </tr>\n",
       "  </thead>\n",
       "  <tbody>\n",
       "    <tr>\n",
       "      <th>0</th>\n",
       "      <td>24</td>\n",
       "      <td>0</td>\n",
       "      <td>23.655</td>\n",
       "      <td>0</td>\n",
       "      <td>0</td>\n",
       "      <td>3</td>\n",
       "      <td>693</td>\n",
       "      <td>2352.96845</td>\n",
       "    </tr>\n",
       "    <tr>\n",
       "      <th>1</th>\n",
       "      <td>28</td>\n",
       "      <td>1</td>\n",
       "      <td>26.510</td>\n",
       "      <td>2</td>\n",
       "      <td>0</td>\n",
       "      <td>0</td>\n",
       "      <td>1297</td>\n",
       "      <td>4340.44090</td>\n",
       "    </tr>\n",
       "    <tr>\n",
       "      <th>2</th>\n",
       "      <td>51</td>\n",
       "      <td>0</td>\n",
       "      <td>39.700</td>\n",
       "      <td>1</td>\n",
       "      <td>0</td>\n",
       "      <td>2</td>\n",
       "      <td>634</td>\n",
       "      <td>9391.34600</td>\n",
       "    </tr>\n",
       "    <tr>\n",
       "      <th>3</th>\n",
       "      <td>47</td>\n",
       "      <td>0</td>\n",
       "      <td>36.080</td>\n",
       "      <td>1</td>\n",
       "      <td>1</td>\n",
       "      <td>0</td>\n",
       "      <td>1022</td>\n",
       "      <td>42211.13820</td>\n",
       "    </tr>\n",
       "    <tr>\n",
       "      <th>4</th>\n",
       "      <td>46</td>\n",
       "      <td>1</td>\n",
       "      <td>28.900</td>\n",
       "      <td>2</td>\n",
       "      <td>0</td>\n",
       "      <td>2</td>\n",
       "      <td>178</td>\n",
       "      <td>8823.27900</td>\n",
       "    </tr>\n",
       "  </tbody>\n",
       "</table>\n",
       "</div>"
      ],
      "text/plain": [
       "   age  sex     bmi  children  smoker  region    id      charges\n",
       "0   24    0  23.655         0       0       3   693   2352.96845\n",
       "1   28    1  26.510         2       0       0  1297   4340.44090\n",
       "2   51    0  39.700         1       0       2   634   9391.34600\n",
       "3   47    0  36.080         1       1       0  1022  42211.13820\n",
       "4   46    1  28.900         2       0       2   178   8823.27900"
      ]
     },
     "execution_count": 18,
     "metadata": {},
     "output_type": "execute_result"
    }
   ],
   "source": [
    "df_train_copy.head()"
   ]
  },
  {
   "cell_type": "code",
   "execution_count": 19,
   "metadata": {},
   "outputs": [
    {
     "data": {
      "text/html": [
       "<div>\n",
       "<style scoped>\n",
       "    .dataframe tbody tr th:only-of-type {\n",
       "        vertical-align: middle;\n",
       "    }\n",
       "\n",
       "    .dataframe tbody tr th {\n",
       "        vertical-align: top;\n",
       "    }\n",
       "\n",
       "    .dataframe thead th {\n",
       "        text-align: right;\n",
       "    }\n",
       "</style>\n",
       "<table border=\"1\" class=\"dataframe\">\n",
       "  <thead>\n",
       "    <tr style=\"text-align: right;\">\n",
       "      <th></th>\n",
       "      <th>age</th>\n",
       "      <th>sex</th>\n",
       "      <th>bmi</th>\n",
       "      <th>children</th>\n",
       "      <th>smoker</th>\n",
       "      <th>region</th>\n",
       "      <th>id</th>\n",
       "      <th>charges</th>\n",
       "    </tr>\n",
       "  </thead>\n",
       "  <tbody>\n",
       "    <tr>\n",
       "      <th>count</th>\n",
       "      <td>1003.000000</td>\n",
       "      <td>1003.000000</td>\n",
       "      <td>1003.000000</td>\n",
       "      <td>1003.000000</td>\n",
       "      <td>1003.000000</td>\n",
       "      <td>1003.000000</td>\n",
       "      <td>1003.000000</td>\n",
       "      <td>1003.000000</td>\n",
       "    </tr>\n",
       "    <tr>\n",
       "      <th>mean</th>\n",
       "      <td>39.255234</td>\n",
       "      <td>0.495513</td>\n",
       "      <td>30.511780</td>\n",
       "      <td>1.104686</td>\n",
       "      <td>0.205384</td>\n",
       "      <td>1.478564</td>\n",
       "      <td>666.874377</td>\n",
       "      <td>13267.935817</td>\n",
       "    </tr>\n",
       "    <tr>\n",
       "      <th>std</th>\n",
       "      <td>14.039105</td>\n",
       "      <td>0.500229</td>\n",
       "      <td>6.013107</td>\n",
       "      <td>1.204619</td>\n",
       "      <td>0.404183</td>\n",
       "      <td>1.121505</td>\n",
       "      <td>386.570442</td>\n",
       "      <td>12051.356547</td>\n",
       "    </tr>\n",
       "    <tr>\n",
       "      <th>min</th>\n",
       "      <td>18.000000</td>\n",
       "      <td>0.000000</td>\n",
       "      <td>15.960000</td>\n",
       "      <td>0.000000</td>\n",
       "      <td>0.000000</td>\n",
       "      <td>0.000000</td>\n",
       "      <td>0.000000</td>\n",
       "      <td>1121.873900</td>\n",
       "    </tr>\n",
       "    <tr>\n",
       "      <th>25%</th>\n",
       "      <td>27.000000</td>\n",
       "      <td>0.000000</td>\n",
       "      <td>26.210000</td>\n",
       "      <td>0.000000</td>\n",
       "      <td>0.000000</td>\n",
       "      <td>0.000000</td>\n",
       "      <td>329.500000</td>\n",
       "      <td>4780.839400</td>\n",
       "    </tr>\n",
       "    <tr>\n",
       "      <th>50%</th>\n",
       "      <td>39.000000</td>\n",
       "      <td>0.000000</td>\n",
       "      <td>30.200000</td>\n",
       "      <td>1.000000</td>\n",
       "      <td>0.000000</td>\n",
       "      <td>1.000000</td>\n",
       "      <td>675.000000</td>\n",
       "      <td>9447.382400</td>\n",
       "    </tr>\n",
       "    <tr>\n",
       "      <th>75%</th>\n",
       "      <td>51.000000</td>\n",
       "      <td>1.000000</td>\n",
       "      <td>34.430000</td>\n",
       "      <td>2.000000</td>\n",
       "      <td>0.000000</td>\n",
       "      <td>2.000000</td>\n",
       "      <td>1001.500000</td>\n",
       "      <td>16840.667970</td>\n",
       "    </tr>\n",
       "    <tr>\n",
       "      <th>max</th>\n",
       "      <td>64.000000</td>\n",
       "      <td>1.000000</td>\n",
       "      <td>53.130000</td>\n",
       "      <td>5.000000</td>\n",
       "      <td>1.000000</td>\n",
       "      <td>3.000000</td>\n",
       "      <td>1337.000000</td>\n",
       "      <td>62592.873090</td>\n",
       "    </tr>\n",
       "  </tbody>\n",
       "</table>\n",
       "</div>"
      ],
      "text/plain": [
       "               age          sex          bmi     children       smoker  \\\n",
       "count  1003.000000  1003.000000  1003.000000  1003.000000  1003.000000   \n",
       "mean     39.255234     0.495513    30.511780     1.104686     0.205384   \n",
       "std      14.039105     0.500229     6.013107     1.204619     0.404183   \n",
       "min      18.000000     0.000000    15.960000     0.000000     0.000000   \n",
       "25%      27.000000     0.000000    26.210000     0.000000     0.000000   \n",
       "50%      39.000000     0.000000    30.200000     1.000000     0.000000   \n",
       "75%      51.000000     1.000000    34.430000     2.000000     0.000000   \n",
       "max      64.000000     1.000000    53.130000     5.000000     1.000000   \n",
       "\n",
       "            region           id       charges  \n",
       "count  1003.000000  1003.000000   1003.000000  \n",
       "mean      1.478564   666.874377  13267.935817  \n",
       "std       1.121505   386.570442  12051.356547  \n",
       "min       0.000000     0.000000   1121.873900  \n",
       "25%       0.000000   329.500000   4780.839400  \n",
       "50%       1.000000   675.000000   9447.382400  \n",
       "75%       2.000000  1001.500000  16840.667970  \n",
       "max       3.000000  1337.000000  62592.873090  "
      ]
     },
     "execution_count": 19,
     "metadata": {},
     "output_type": "execute_result"
    }
   ],
   "source": [
    "df_train_copy.describe()"
   ]
  },
  {
   "cell_type": "code",
   "execution_count": 20,
   "metadata": {},
   "outputs": [
    {
     "data": {
      "text/html": [
       "<div>\n",
       "<style scoped>\n",
       "    .dataframe tbody tr th:only-of-type {\n",
       "        vertical-align: middle;\n",
       "    }\n",
       "\n",
       "    .dataframe tbody tr th {\n",
       "        vertical-align: top;\n",
       "    }\n",
       "\n",
       "    .dataframe thead th {\n",
       "        text-align: right;\n",
       "    }\n",
       "</style>\n",
       "<table border=\"1\" class=\"dataframe\">\n",
       "  <thead>\n",
       "    <tr style=\"text-align: right;\">\n",
       "      <th></th>\n",
       "      <th>age</th>\n",
       "      <th>sex</th>\n",
       "      <th>bmi</th>\n",
       "      <th>children</th>\n",
       "      <th>smoker</th>\n",
       "      <th>region</th>\n",
       "      <th>id</th>\n",
       "      <th>charges</th>\n",
       "    </tr>\n",
       "  </thead>\n",
       "  <tbody>\n",
       "    <tr>\n",
       "      <th>age</th>\n",
       "      <td>1.000000</td>\n",
       "      <td>0.012385</td>\n",
       "      <td>0.111325</td>\n",
       "      <td>0.055070</td>\n",
       "      <td>-0.037916</td>\n",
       "      <td>0.029759</td>\n",
       "      <td>-0.031710</td>\n",
       "      <td>0.293434</td>\n",
       "    </tr>\n",
       "    <tr>\n",
       "      <th>sex</th>\n",
       "      <td>0.012385</td>\n",
       "      <td>1.000000</td>\n",
       "      <td>-0.001931</td>\n",
       "      <td>-0.016610</td>\n",
       "      <td>-0.054671</td>\n",
       "      <td>-0.028190</td>\n",
       "      <td>0.020615</td>\n",
       "      <td>-0.043353</td>\n",
       "    </tr>\n",
       "    <tr>\n",
       "      <th>bmi</th>\n",
       "      <td>0.111325</td>\n",
       "      <td>-0.001931</td>\n",
       "      <td>1.000000</td>\n",
       "      <td>-0.003459</td>\n",
       "      <td>-0.001499</td>\n",
       "      <td>-0.168348</td>\n",
       "      <td>-0.028038</td>\n",
       "      <td>0.195828</td>\n",
       "    </tr>\n",
       "    <tr>\n",
       "      <th>children</th>\n",
       "      <td>0.055070</td>\n",
       "      <td>-0.016610</td>\n",
       "      <td>-0.003459</td>\n",
       "      <td>1.000000</td>\n",
       "      <td>0.025488</td>\n",
       "      <td>0.036752</td>\n",
       "      <td>0.034752</td>\n",
       "      <td>0.079823</td>\n",
       "    </tr>\n",
       "    <tr>\n",
       "      <th>smoker</th>\n",
       "      <td>-0.037916</td>\n",
       "      <td>-0.054671</td>\n",
       "      <td>-0.001499</td>\n",
       "      <td>0.025488</td>\n",
       "      <td>1.000000</td>\n",
       "      <td>-0.051925</td>\n",
       "      <td>0.024316</td>\n",
       "      <td>0.781981</td>\n",
       "    </tr>\n",
       "    <tr>\n",
       "      <th>region</th>\n",
       "      <td>0.029759</td>\n",
       "      <td>-0.028190</td>\n",
       "      <td>-0.168348</td>\n",
       "      <td>0.036752</td>\n",
       "      <td>-0.051925</td>\n",
       "      <td>1.000000</td>\n",
       "      <td>0.003401</td>\n",
       "      <td>-0.054976</td>\n",
       "    </tr>\n",
       "    <tr>\n",
       "      <th>id</th>\n",
       "      <td>-0.031710</td>\n",
       "      <td>0.020615</td>\n",
       "      <td>-0.028038</td>\n",
       "      <td>0.034752</td>\n",
       "      <td>0.024316</td>\n",
       "      <td>0.003401</td>\n",
       "      <td>1.000000</td>\n",
       "      <td>0.025468</td>\n",
       "    </tr>\n",
       "    <tr>\n",
       "      <th>charges</th>\n",
       "      <td>0.293434</td>\n",
       "      <td>-0.043353</td>\n",
       "      <td>0.195828</td>\n",
       "      <td>0.079823</td>\n",
       "      <td>0.781981</td>\n",
       "      <td>-0.054976</td>\n",
       "      <td>0.025468</td>\n",
       "      <td>1.000000</td>\n",
       "    </tr>\n",
       "  </tbody>\n",
       "</table>\n",
       "</div>"
      ],
      "text/plain": [
       "               age       sex       bmi  children    smoker    region  \\\n",
       "age       1.000000  0.012385  0.111325  0.055070 -0.037916  0.029759   \n",
       "sex       0.012385  1.000000 -0.001931 -0.016610 -0.054671 -0.028190   \n",
       "bmi       0.111325 -0.001931  1.000000 -0.003459 -0.001499 -0.168348   \n",
       "children  0.055070 -0.016610 -0.003459  1.000000  0.025488  0.036752   \n",
       "smoker   -0.037916 -0.054671 -0.001499  0.025488  1.000000 -0.051925   \n",
       "region    0.029759 -0.028190 -0.168348  0.036752 -0.051925  1.000000   \n",
       "id       -0.031710  0.020615 -0.028038  0.034752  0.024316  0.003401   \n",
       "charges   0.293434 -0.043353  0.195828  0.079823  0.781981 -0.054976   \n",
       "\n",
       "                id   charges  \n",
       "age      -0.031710  0.293434  \n",
       "sex       0.020615 -0.043353  \n",
       "bmi      -0.028038  0.195828  \n",
       "children  0.034752  0.079823  \n",
       "smoker    0.024316  0.781981  \n",
       "region    0.003401 -0.054976  \n",
       "id        1.000000  0.025468  \n",
       "charges   0.025468  1.000000  "
      ]
     },
     "execution_count": 20,
     "metadata": {},
     "output_type": "execute_result"
    }
   ],
   "source": [
    "x= df_train_copy.corr()\n",
    "x"
   ]
  },
  {
   "cell_type": "code",
   "execution_count": 21,
   "metadata": {},
   "outputs": [
    {
     "data": {
      "text/plain": [
       "<matplotlib.axes._subplots.AxesSubplot at 0xb23aa90>"
      ]
     },
     "execution_count": 21,
     "metadata": {},
     "output_type": "execute_result"
    },
    {
     "data": {
      "image/png": "[encoded data removed]",
      "text/plain": [
       "<Figure size 720x576 with 2 Axes>"
      ]
     },
     "metadata": {
      "needs_background": "light"
     },
     "output_type": "display_data"
    }
   ],
   "source": [
    "import seaborn as sns\n",
    "plt.figure(figsize=(10,8))\n",
    "sns.heatmap(x, annot=True, cmap='BuPu')"
   ]
  },
  {
   "cell_type": "markdown",
   "metadata": {},
   "source": [
    "###### Impact on health and life insurance premium\n",
    "- Since smokers pose a greater risk of contacting this wide array of diseases mentioned above, it makes them more prone to health complications\n",
    "- Most insurers will charge a higher premium amount for smokers compared to non-smokers\n",
    "- Smokers are highly related with insurance charges"
   ]
  },
  {
   "cell_type": "code",
   "execution_count": 22,
   "metadata": {},
   "outputs": [
    {
     "name": "stdout",
     "output_type": "stream",
     "text": [
      "female    497\n",
      "male      506\n",
      "Name: sex, dtype: int64\n",
      "yes    206\n",
      "no     797\n",
      "Name: smoker, dtype: int64\n",
      "northwest    246\n",
      "southwest    247\n",
      "northeast    251\n",
      "southeast    259\n",
      "Name: region, dtype: int64\n"
     ]
    }
   ],
   "source": [
    "print(df_train['sex'].value_counts().sort_values()) \n",
    "print(df_train['smoker'].value_counts().sort_values())\n",
    "print(df_train['region'].value_counts().sort_values())"
   ]
  },
  {
   "cell_type": "markdown",
   "metadata": {},
   "source": [
    "#### 1. Region"
   ]
  },
  {
   "cell_type": "markdown",
   "metadata": {},
   "source": [
    "###### A. Which region has the most number of beneficiaries in the training set?"
   ]
  },
  {
   "cell_type": "code",
   "execution_count": 23,
   "metadata": {},
   "outputs": [
    {
     "data": {
      "text/plain": [
       "0    259\n",
       "1    251\n",
       "2    247\n",
       "3    246\n",
       "Name: region, dtype: int64"
      ]
     },
     "execution_count": 23,
     "metadata": {},
     "output_type": "execute_result"
    }
   ],
   "source": [
    "df_train_copy['region'].value_counts()"
   ]
  },
  {
   "cell_type": "code",
   "execution_count": 24,
   "metadata": {},
   "outputs": [
    {
     "data": {
      "text/plain": [
       "<matplotlib.axes._subplots.AxesSubplot at 0xb222b20>"
      ]
     },
     "execution_count": 24,
     "metadata": {},
     "output_type": "execute_result"
    },
    {
     "data": {
      "image/png": "[encoded data removed]",
      "text/plain": [
       "<Figure size 1008x576 with 1 Axes>"
      ]
     },
     "metadata": {
      "needs_background": "light"
     },
     "output_type": "display_data"
    }
   ],
   "source": [
    "plt.figure(figsize=(14,8))\n",
    "sns.barplot(x='region', y='charges', data=df_train_copy, palette='Set1')"
   ]
  },
  {
   "cell_type": "markdown",
   "metadata": {},
   "source": [
    "- Southeast region has the most number of beneficiaries"
   ]
  },
  {
   "cell_type": "markdown",
   "metadata": {},
   "source": [
    "###### B. Which region has highest and least number of smokers?"
   ]
  },
  {
   "cell_type": "code",
   "execution_count": 25,
   "metadata": {},
   "outputs": [
    {
     "data": {
      "text/plain": [
       "<matplotlib.axes._subplots.AxesSubplot at 0xbb50910>"
      ]
     },
     "execution_count": 25,
     "metadata": {},
     "output_type": "execute_result"
    },
    {
     "data": {
      "image/png": "[encoded data removed]",
      "text/plain": [
       "<Figure size 1008x504 with 1 Axes>"
      ]
     },
     "metadata": {
      "needs_background": "light"
     },
     "output_type": "display_data"
    }
   ],
   "source": [
    "plt.figure(figsize=(14,7))\n",
    "sns.barplot(x='region', y='smoker',hue='sex',data=df_train_copy, palette='Set2')"
   ]
  },
  {
   "cell_type": "markdown",
   "metadata": {},
   "source": [
    "- Southeast region has the highest and northwest has the least number of smokers with males as prominent smokers"
   ]
  },
  {
   "cell_type": "markdown",
   "metadata": {},
   "source": [
    "#### 2. Age"
   ]
  },
  {
   "cell_type": "markdown",
   "metadata": {},
   "source": [
    "###### A. What's the mean and median value of the age feature?"
   ]
  },
  {
   "cell_type": "code",
   "execution_count": 26,
   "metadata": {},
   "outputs": [
    {
     "data": {
      "text/plain": [
       "39.25523429710867"
      ]
     },
     "execution_count": 26,
     "metadata": {},
     "output_type": "execute_result"
    }
   ],
   "source": [
    "df_train['age'].mean()"
   ]
  },
  {
   "cell_type": "code",
   "execution_count": 27,
   "metadata": {},
   "outputs": [
    {
     "data": {
      "text/plain": [
       "39.0"
      ]
     },
     "execution_count": 27,
     "metadata": {},
     "output_type": "execute_result"
    }
   ],
   "source": [
    "df_train['age'].median()"
   ]
  },
  {
   "cell_type": "code",
   "execution_count": 28,
   "metadata": {},
   "outputs": [
    {
     "data": {
      "text/plain": [
       "<matplotlib.axes._subplots.AxesSubplot at 0xc16e460>"
      ]
     },
     "execution_count": 28,
     "metadata": {},
     "output_type": "execute_result"
    },
    {
     "data": {
      "image/png": "[encoded data removed]",
      "text/plain": [
       "<Figure size 1008x504 with 1 Axes>"
      ]
     },
     "metadata": {
      "needs_background": "light"
     },
     "output_type": "display_data"
    }
   ],
   "source": [
    "plt.figure(figsize=(14,7))\n",
    "sns.distplot(df_train['age'])"
   ]
  },
  {
   "cell_type": "markdown",
   "metadata": {},
   "source": [
    "###### B. How age is related with the charges?"
   ]
  },
  {
   "cell_type": "code",
   "execution_count": 29,
   "metadata": {},
   "outputs": [
    {
     "data": {
      "text/plain": [
       "<matplotlib.axes._subplots.AxesSubplot at 0xc1f62e0>"
      ]
     },
     "execution_count": 29,
     "metadata": {},
     "output_type": "execute_result"
    },
    {
     "data": {
      "image/png": "[encoded data removed]",
      "text/plain": [
       "<Figure size 1008x504 with 1 Axes>"
      ]
     },
     "metadata": {
      "needs_background": "light"
     },
     "output_type": "display_data"
    }
   ],
   "source": [
    "plt.figure(figsize=(14,7))\n",
    "sns.lineplot(x='age', y='charges', data=df_train_copy, palette='Set3')"
   ]
  },
  {
   "cell_type": "markdown",
   "metadata": {},
   "source": [
    "- Age is one of the primary factors influencing the life insurance premium rate, whether seeking a term or permanent policy.\n",
    "- Typically, the premium amount increases average about 8% to 10% for every year of age;\n",
    "- It can be as low as 5% annually if beneficiary is in 40s, and as high as 12% annually or if over age 50."
   ]
  },
  {
   "cell_type": "markdown",
   "metadata": {},
   "source": [
    "#### 3. BMI (Body Mass Index)"
   ]
  },
  {
   "cell_type": "markdown",
   "metadata": {},
   "source": [
    "###### A. What is the median value of the bmi feature?"
   ]
  },
  {
   "cell_type": "code",
   "execution_count": 30,
   "metadata": {},
   "outputs": [
    {
     "data": {
      "text/plain": [
       "30.2"
      ]
     },
     "execution_count": 30,
     "metadata": {},
     "output_type": "execute_result"
    }
   ],
   "source": [
    "df_train_copy['bmi'].median()"
   ]
  },
  {
   "cell_type": "code",
   "execution_count": 31,
   "metadata": {},
   "outputs": [
    {
     "data": {
      "text/plain": [
       "<matplotlib.axes._subplots.AxesSubplot at 0xc24ba30>"
      ]
     },
     "execution_count": 31,
     "metadata": {},
     "output_type": "execute_result"
    },
    {
     "data": {
      "image/png": "[encoded data removed]",
      "text/plain": [
       "<Figure size 1008x576 with 1 Axes>"
      ]
     },
     "metadata": {
      "needs_background": "light"
     },
     "output_type": "display_data"
    }
   ],
   "source": [
    "plt.figure(figsize=(14,8))\n",
    "sns.distplot(df_train_copy['bmi'], color='g')"
   ]
  },
  {
   "cell_type": "markdown",
   "metadata": {},
   "source": [
    "###### B. How BMI will affect medical insurance?"
   ]
  },
  {
   "cell_type": "code",
   "execution_count": 32,
   "metadata": {},
   "outputs": [
    {
     "data": {
      "text/plain": [
       "<matplotlib.axes._subplots.AxesSubplot at 0xc26ab80>"
      ]
     },
     "execution_count": 32,
     "metadata": {},
     "output_type": "execute_result"
    },
    {
     "data": {
      "image/png": "[encoded data removed]",
      "text/plain": [
       "<Figure size 1008x648 with 1 Axes>"
      ]
     },
     "metadata": {
      "needs_background": "light"
     },
     "output_type": "display_data"
    }
   ],
   "source": [
    "plt.figure(figsize=(14,9))\n",
    "sns.scatterplot(x='bmi', y='charges', hue='sex', data=df_train_copy, palette='Reds')"
   ]
  },
  {
   "cell_type": "markdown",
   "metadata": {},
   "source": [
    "- A higher BMI means that the individual is at a higher risk of heart diseases and might frequently visit the hospitals due to weight-related issues.\n",
    "- People with a body mass index (BMI) of 30 or higher can expect to pay more each month for health insurance. \n",
    "- In some cases,Health insurance for obese people costs 25 to 50 percent more than coverage for people with a BMI below 30."
   ]
  },
  {
   "cell_type": "markdown",
   "metadata": {},
   "source": [
    "#### 4. Gender"
   ]
  },
  {
   "cell_type": "markdown",
   "metadata": {},
   "source": [
    "##### A. What's the gender ratio? "
   ]
  },
  {
   "cell_type": "code",
   "execution_count": 33,
   "metadata": {},
   "outputs": [
    {
     "data": {
      "text/plain": [
       "0    506\n",
       "1    497\n",
       "Name: sex, dtype: int64"
      ]
     },
     "execution_count": 33,
     "metadata": {},
     "output_type": "execute_result"
    }
   ],
   "source": [
    "df_train_copy['sex'].value_counts()"
   ]
  },
  {
   "cell_type": "code",
   "execution_count": 34,
   "metadata": {},
   "outputs": [
    {
     "data": {
      "text/plain": [
       "Text(0.5, 1.0, 'Gender Ratio')"
      ]
     },
     "execution_count": 34,
     "metadata": {},
     "output_type": "execute_result"
    },
    {
     "data": {
      "image/png": "[encoded data removed]",
      "text/plain": [
       "<Figure size 1152x504 with 1 Axes>"
      ]
     },
     "metadata": {},
     "output_type": "display_data"
    }
   ],
   "source": [
    "df_train_copy['sex'].value_counts().plot(kind='pie', \n",
    "                                         figsize=(16,7), autopct='%1.1f%%',\n",
    "                                         explode=(0,0), fontsize=13)\n",
    "plt.title('Gender Ratio', fontsize=20)"
   ]
  },
  {
   "cell_type": "markdown",
   "metadata": {},
   "source": [
    "- The ratio of male (51%)gender is higher than female(49%)"
   ]
  },
  {
   "cell_type": "markdown",
   "metadata": {},
   "source": [
    "#### 5. Smokers"
   ]
  },
  {
   "cell_type": "markdown",
   "metadata": {},
   "source": [
    "###### A. What's percentage of smokers?"
   ]
  },
  {
   "cell_type": "code",
   "execution_count": 35,
   "metadata": {},
   "outputs": [
    {
     "data": {
      "text/plain": [
       "0    797\n",
       "1    206\n",
       "Name: smoker, dtype: int64"
      ]
     },
     "execution_count": 35,
     "metadata": {},
     "output_type": "execute_result"
    }
   ],
   "source": [
    "df_train_copy['smoker'].value_counts()"
   ]
  },
  {
   "cell_type": "code",
   "execution_count": 36,
   "metadata": {},
   "outputs": [
    {
     "data": {
      "text/plain": [
       "Text(0.5, 1.0, 'Percentage of Smokers')"
      ]
     },
     "execution_count": 36,
     "metadata": {},
     "output_type": "execute_result"
    },
    {
     "data": {
      "image/png": "[encoded data removed]",
      "text/plain": [
       "<Figure size 1152x504 with 1 Axes>"
      ]
     },
     "metadata": {},
     "output_type": "display_data"
    }
   ],
   "source": [
    "df_train_copy['smoker'].value_counts().plot(kind='pie', \n",
    "                                         figsize=(16,7), autopct='%1.1f%%',\n",
    "                                         explode=(0,0), fontsize=13)\n",
    "plt.title('Percentage of Smokers', fontsize=20)"
   ]
  },
  {
   "cell_type": "markdown",
   "metadata": {},
   "source": [
    "#### 6. Charges"
   ]
  },
  {
   "cell_type": "code",
   "execution_count": 37,
   "metadata": {},
   "outputs": [
    {
     "data": {
      "text/plain": [
       "<matplotlib.axes._subplots.AxesSubplot at 0xce2e4f0>"
      ]
     },
     "execution_count": 37,
     "metadata": {},
     "output_type": "execute_result"
    },
    {
     "data": {
      "image/png": "[encoded data removed]",
      "text/plain": [
       "<Figure size 1008x576 with 1 Axes>"
      ]
     },
     "metadata": {
      "needs_background": "light"
     },
     "output_type": "display_data"
    }
   ],
   "source": [
    "plt.figure(figsize=(14,8))\n",
    "sns.distplot(df_train_copy['charges'], color='r')"
   ]
  },
  {
   "cell_type": "code",
   "execution_count": 38,
   "metadata": {},
   "outputs": [
    {
     "data": {
      "text/plain": [
       "<matplotlib.axes._subplots.AxesSubplot at 0xc297970>"
      ]
     },
     "execution_count": 38,
     "metadata": {},
     "output_type": "execute_result"
    },
    {
     "data": {
      "image/png": "[encoded data removed]",
      "text/plain": [
       "<Figure size 1008x648 with 1 Axes>"
      ]
     },
     "metadata": {
      "needs_background": "light"
     },
     "output_type": "display_data"
    }
   ],
   "source": [
    "plt.figure(figsize=(14,9))\n",
    "sns.barplot(x='smoker', y='charges', hue='sex', data=df_train_copy, palette='Blues')"
   ]
  },
  {
   "cell_type": "markdown",
   "metadata": {},
   "source": [
    "- As smoking is highly related to health disorders, like cancer, heart disease, stroke, lung diseases, diabetes, and chronic obstructive pulmonary disease (COPD), which includes emphysema and chronic bronchitis. \n",
    "- Smoking also increases risk for tuberculosis, certain eye diseases, and problems of the immune system, including rheumatoid arthritis.\n",
    "- Most of the health insurance companies are allowed to charge smokers up to 50% more for premiums. "
   ]
  },
  {
   "cell_type": "markdown",
   "metadata": {},
   "source": [
    "#### Overall Analysis\n",
    "- Rising cost of medical treatment has been a significant rise in the number of people buying a health insurance policy. \n",
    "- Premium rates will be increased if the customer has high BMI. \n",
    "- People with high BMI are at risk of serious ailments, such as heart diseases, type 2 diabetes, breathing problems, hypertension, and cancer. "
   ]
  },
  {
   "cell_type": "markdown",
   "metadata": {},
   "source": [
    "#### Future Insights \n",
    "- Premium payments depends on type of health insurance cover the buyers choose. The premium amount will increase if the customers have purchased add-on covers.\n",
    "- Individual or group insurance has low premium rate, while family floater has high premium rate. "
   ]
  },
  {
   "cell_type": "markdown",
   "metadata": {},
   "source": [
    "### Model Evalution "
   ]
  },
  {
   "cell_type": "markdown",
   "metadata": {},
   "source": [
    "###### Preparing X and y for training and testing "
   ]
  },
  {
   "cell_type": "code",
   "execution_count": 39,
   "metadata": {},
   "outputs": [
    {
     "data": {
      "text/html": [
       "<div>\n",
       "<style scoped>\n",
       "    .dataframe tbody tr th:only-of-type {\n",
       "        vertical-align: middle;\n",
       "    }\n",
       "\n",
       "    .dataframe tbody tr th {\n",
       "        vertical-align: top;\n",
       "    }\n",
       "\n",
       "    .dataframe thead th {\n",
       "        text-align: right;\n",
       "    }\n",
       "</style>\n",
       "<table border=\"1\" class=\"dataframe\">\n",
       "  <thead>\n",
       "    <tr style=\"text-align: right;\">\n",
       "      <th></th>\n",
       "      <th>age</th>\n",
       "      <th>sex</th>\n",
       "      <th>bmi</th>\n",
       "      <th>children</th>\n",
       "      <th>smoker</th>\n",
       "      <th>region</th>\n",
       "      <th>id</th>\n",
       "      <th>charges</th>\n",
       "    </tr>\n",
       "  </thead>\n",
       "  <tbody>\n",
       "    <tr>\n",
       "      <th>0</th>\n",
       "      <td>24</td>\n",
       "      <td>male</td>\n",
       "      <td>23.655</td>\n",
       "      <td>0</td>\n",
       "      <td>no</td>\n",
       "      <td>northwest</td>\n",
       "      <td>693</td>\n",
       "      <td>2352.96845</td>\n",
       "    </tr>\n",
       "    <tr>\n",
       "      <th>1</th>\n",
       "      <td>28</td>\n",
       "      <td>female</td>\n",
       "      <td>26.510</td>\n",
       "      <td>2</td>\n",
       "      <td>no</td>\n",
       "      <td>southeast</td>\n",
       "      <td>1297</td>\n",
       "      <td>4340.44090</td>\n",
       "    </tr>\n",
       "    <tr>\n",
       "      <th>2</th>\n",
       "      <td>51</td>\n",
       "      <td>male</td>\n",
       "      <td>39.700</td>\n",
       "      <td>1</td>\n",
       "      <td>no</td>\n",
       "      <td>southwest</td>\n",
       "      <td>634</td>\n",
       "      <td>9391.34600</td>\n",
       "    </tr>\n",
       "    <tr>\n",
       "      <th>3</th>\n",
       "      <td>47</td>\n",
       "      <td>male</td>\n",
       "      <td>36.080</td>\n",
       "      <td>1</td>\n",
       "      <td>yes</td>\n",
       "      <td>southeast</td>\n",
       "      <td>1022</td>\n",
       "      <td>42211.13820</td>\n",
       "    </tr>\n",
       "    <tr>\n",
       "      <th>4</th>\n",
       "      <td>46</td>\n",
       "      <td>female</td>\n",
       "      <td>28.900</td>\n",
       "      <td>2</td>\n",
       "      <td>no</td>\n",
       "      <td>southwest</td>\n",
       "      <td>178</td>\n",
       "      <td>8823.27900</td>\n",
       "    </tr>\n",
       "  </tbody>\n",
       "</table>\n",
       "</div>"
      ],
      "text/plain": [
       "   age     sex     bmi  children smoker     region    id      charges\n",
       "0   24    male  23.655         0     no  northwest   693   2352.96845\n",
       "1   28  female  26.510         2     no  southeast  1297   4340.44090\n",
       "2   51    male  39.700         1     no  southwest   634   9391.34600\n",
       "3   47    male  36.080         1    yes  southeast  1022  42211.13820\n",
       "4   46  female  28.900         2     no  southwest   178   8823.27900"
      ]
     },
     "execution_count": 39,
     "metadata": {},
     "output_type": "execute_result"
    }
   ],
   "source": [
    "df_train.head()"
   ]
  },
  {
   "cell_type": "markdown",
   "metadata": {},
   "source": [
    "###### Dropping least important feature of the dataset"
   ]
  },
  {
   "cell_type": "code",
   "execution_count": 40,
   "metadata": {},
   "outputs": [
    {
     "data": {
      "text/html": [
       "<div>\n",
       "<style scoped>\n",
       "    .dataframe tbody tr th:only-of-type {\n",
       "        vertical-align: middle;\n",
       "    }\n",
       "\n",
       "    .dataframe tbody tr th {\n",
       "        vertical-align: top;\n",
       "    }\n",
       "\n",
       "    .dataframe thead th {\n",
       "        text-align: right;\n",
       "    }\n",
       "</style>\n",
       "<table border=\"1\" class=\"dataframe\">\n",
       "  <thead>\n",
       "    <tr style=\"text-align: right;\">\n",
       "      <th></th>\n",
       "      <th>age</th>\n",
       "      <th>sex</th>\n",
       "      <th>bmi</th>\n",
       "      <th>children</th>\n",
       "      <th>smoker</th>\n",
       "      <th>id</th>\n",
       "      <th>charges</th>\n",
       "    </tr>\n",
       "  </thead>\n",
       "  <tbody>\n",
       "    <tr>\n",
       "      <th>0</th>\n",
       "      <td>24</td>\n",
       "      <td>male</td>\n",
       "      <td>23.655</td>\n",
       "      <td>0</td>\n",
       "      <td>no</td>\n",
       "      <td>693</td>\n",
       "      <td>2352.96845</td>\n",
       "    </tr>\n",
       "    <tr>\n",
       "      <th>1</th>\n",
       "      <td>28</td>\n",
       "      <td>female</td>\n",
       "      <td>26.510</td>\n",
       "      <td>2</td>\n",
       "      <td>no</td>\n",
       "      <td>1297</td>\n",
       "      <td>4340.44090</td>\n",
       "    </tr>\n",
       "    <tr>\n",
       "      <th>2</th>\n",
       "      <td>51</td>\n",
       "      <td>male</td>\n",
       "      <td>39.700</td>\n",
       "      <td>1</td>\n",
       "      <td>no</td>\n",
       "      <td>634</td>\n",
       "      <td>9391.34600</td>\n",
       "    </tr>\n",
       "    <tr>\n",
       "      <th>3</th>\n",
       "      <td>47</td>\n",
       "      <td>male</td>\n",
       "      <td>36.080</td>\n",
       "      <td>1</td>\n",
       "      <td>yes</td>\n",
       "      <td>1022</td>\n",
       "      <td>42211.13820</td>\n",
       "    </tr>\n",
       "    <tr>\n",
       "      <th>4</th>\n",
       "      <td>46</td>\n",
       "      <td>female</td>\n",
       "      <td>28.900</td>\n",
       "      <td>2</td>\n",
       "      <td>no</td>\n",
       "      <td>178</td>\n",
       "      <td>8823.27900</td>\n",
       "    </tr>\n",
       "    <tr>\n",
       "      <th>...</th>\n",
       "      <td>...</td>\n",
       "      <td>...</td>\n",
       "      <td>...</td>\n",
       "      <td>...</td>\n",
       "      <td>...</td>\n",
       "      <td>...</td>\n",
       "      <td>...</td>\n",
       "    </tr>\n",
       "    <tr>\n",
       "      <th>998</th>\n",
       "      <td>18</td>\n",
       "      <td>female</td>\n",
       "      <td>31.350</td>\n",
       "      <td>4</td>\n",
       "      <td>no</td>\n",
       "      <td>1095</td>\n",
       "      <td>4561.18850</td>\n",
       "    </tr>\n",
       "    <tr>\n",
       "      <th>999</th>\n",
       "      <td>39</td>\n",
       "      <td>female</td>\n",
       "      <td>23.870</td>\n",
       "      <td>5</td>\n",
       "      <td>no</td>\n",
       "      <td>1130</td>\n",
       "      <td>8582.30230</td>\n",
       "    </tr>\n",
       "    <tr>\n",
       "      <th>1000</th>\n",
       "      <td>58</td>\n",
       "      <td>male</td>\n",
       "      <td>25.175</td>\n",
       "      <td>0</td>\n",
       "      <td>no</td>\n",
       "      <td>1294</td>\n",
       "      <td>11931.12525</td>\n",
       "    </tr>\n",
       "    <tr>\n",
       "      <th>1001</th>\n",
       "      <td>37</td>\n",
       "      <td>female</td>\n",
       "      <td>47.600</td>\n",
       "      <td>2</td>\n",
       "      <td>yes</td>\n",
       "      <td>860</td>\n",
       "      <td>46113.51100</td>\n",
       "    </tr>\n",
       "    <tr>\n",
       "      <th>1002</th>\n",
       "      <td>55</td>\n",
       "      <td>male</td>\n",
       "      <td>29.900</td>\n",
       "      <td>0</td>\n",
       "      <td>no</td>\n",
       "      <td>1126</td>\n",
       "      <td>10214.63600</td>\n",
       "    </tr>\n",
       "  </tbody>\n",
       "</table>\n",
       "<p>1003 rows × 7 columns</p>\n",
       "</div>"
      ],
      "text/plain": [
       "      age     sex     bmi  children smoker    id      charges\n",
       "0      24    male  23.655         0     no   693   2352.96845\n",
       "1      28  female  26.510         2     no  1297   4340.44090\n",
       "2      51    male  39.700         1     no   634   9391.34600\n",
       "3      47    male  36.080         1    yes  1022  42211.13820\n",
       "4      46  female  28.900         2     no   178   8823.27900\n",
       "...   ...     ...     ...       ...    ...   ...          ...\n",
       "998    18  female  31.350         4     no  1095   4561.18850\n",
       "999    39  female  23.870         5     no  1130   8582.30230\n",
       "1000   58    male  25.175         0     no  1294  11931.12525\n",
       "1001   37  female  47.600         2    yes   860  46113.51100\n",
       "1002   55    male  29.900         0     no  1126  10214.63600\n",
       "\n",
       "[1003 rows x 7 columns]"
      ]
     },
     "execution_count": 40,
     "metadata": {},
     "output_type": "execute_result"
    }
   ],
   "source": [
    "df_train = df_train.drop('region', axis=1)\n",
    "df_train"
   ]
  },
  {
   "cell_type": "markdown",
   "metadata": {},
   "source": [
    "###### Label encoding for “sex” and “smoker”"
   ]
  },
  {
   "cell_type": "code",
   "execution_count": 41,
   "metadata": {},
   "outputs": [],
   "source": [
    "from sklearn.preprocessing import LabelEncoder"
   ]
  },
  {
   "cell_type": "code",
   "execution_count": 42,
   "metadata": {},
   "outputs": [],
   "source": [
    "le = LabelEncoder()\n",
    "df_train['sex'] = le.fit_transform(df_train['sex'])\n",
    "df_train['smoker'] = le.fit_transform(df_train['smoker'])"
   ]
  },
  {
   "cell_type": "code",
   "execution_count": 43,
   "metadata": {},
   "outputs": [
    {
     "data": {
      "text/html": [
       "<div>\n",
       "<style scoped>\n",
       "    .dataframe tbody tr th:only-of-type {\n",
       "        vertical-align: middle;\n",
       "    }\n",
       "\n",
       "    .dataframe tbody tr th {\n",
       "        vertical-align: top;\n",
       "    }\n",
       "\n",
       "    .dataframe thead th {\n",
       "        text-align: right;\n",
       "    }\n",
       "</style>\n",
       "<table border=\"1\" class=\"dataframe\">\n",
       "  <thead>\n",
       "    <tr style=\"text-align: right;\">\n",
       "      <th></th>\n",
       "      <th>age</th>\n",
       "      <th>sex</th>\n",
       "      <th>bmi</th>\n",
       "      <th>children</th>\n",
       "      <th>smoker</th>\n",
       "      <th>id</th>\n",
       "      <th>charges</th>\n",
       "    </tr>\n",
       "  </thead>\n",
       "  <tbody>\n",
       "    <tr>\n",
       "      <th>0</th>\n",
       "      <td>24</td>\n",
       "      <td>1</td>\n",
       "      <td>23.655</td>\n",
       "      <td>0</td>\n",
       "      <td>0</td>\n",
       "      <td>693</td>\n",
       "      <td>2352.96845</td>\n",
       "    </tr>\n",
       "    <tr>\n",
       "      <th>1</th>\n",
       "      <td>28</td>\n",
       "      <td>0</td>\n",
       "      <td>26.510</td>\n",
       "      <td>2</td>\n",
       "      <td>0</td>\n",
       "      <td>1297</td>\n",
       "      <td>4340.44090</td>\n",
       "    </tr>\n",
       "    <tr>\n",
       "      <th>2</th>\n",
       "      <td>51</td>\n",
       "      <td>1</td>\n",
       "      <td>39.700</td>\n",
       "      <td>1</td>\n",
       "      <td>0</td>\n",
       "      <td>634</td>\n",
       "      <td>9391.34600</td>\n",
       "    </tr>\n",
       "    <tr>\n",
       "      <th>3</th>\n",
       "      <td>47</td>\n",
       "      <td>1</td>\n",
       "      <td>36.080</td>\n",
       "      <td>1</td>\n",
       "      <td>1</td>\n",
       "      <td>1022</td>\n",
       "      <td>42211.13820</td>\n",
       "    </tr>\n",
       "    <tr>\n",
       "      <th>4</th>\n",
       "      <td>46</td>\n",
       "      <td>0</td>\n",
       "      <td>28.900</td>\n",
       "      <td>2</td>\n",
       "      <td>0</td>\n",
       "      <td>178</td>\n",
       "      <td>8823.27900</td>\n",
       "    </tr>\n",
       "  </tbody>\n",
       "</table>\n",
       "</div>"
      ],
      "text/plain": [
       "   age  sex     bmi  children  smoker    id      charges\n",
       "0   24    1  23.655         0       0   693   2352.96845\n",
       "1   28    0  26.510         2       0  1297   4340.44090\n",
       "2   51    1  39.700         1       0   634   9391.34600\n",
       "3   47    1  36.080         1       1  1022  42211.13820\n",
       "4   46    0  28.900         2       0   178   8823.27900"
      ]
     },
     "execution_count": 43,
     "metadata": {},
     "output_type": "execute_result"
    }
   ],
   "source": [
    "df_train.head()"
   ]
  },
  {
   "cell_type": "code",
   "execution_count": 44,
   "metadata": {},
   "outputs": [
    {
     "data": {
      "text/html": [
       "<div>\n",
       "<style scoped>\n",
       "    .dataframe tbody tr th:only-of-type {\n",
       "        vertical-align: middle;\n",
       "    }\n",
       "\n",
       "    .dataframe tbody tr th {\n",
       "        vertical-align: top;\n",
       "    }\n",
       "\n",
       "    .dataframe thead th {\n",
       "        text-align: right;\n",
       "    }\n",
       "</style>\n",
       "<table border=\"1\" class=\"dataframe\">\n",
       "  <thead>\n",
       "    <tr style=\"text-align: right;\">\n",
       "      <th></th>\n",
       "      <th>age</th>\n",
       "      <th>sex</th>\n",
       "      <th>bmi</th>\n",
       "      <th>children</th>\n",
       "      <th>smoker</th>\n",
       "      <th>id</th>\n",
       "    </tr>\n",
       "  </thead>\n",
       "  <tbody>\n",
       "    <tr>\n",
       "      <th>0</th>\n",
       "      <td>24</td>\n",
       "      <td>1</td>\n",
       "      <td>23.655</td>\n",
       "      <td>0</td>\n",
       "      <td>0</td>\n",
       "      <td>693</td>\n",
       "    </tr>\n",
       "    <tr>\n",
       "      <th>1</th>\n",
       "      <td>28</td>\n",
       "      <td>0</td>\n",
       "      <td>26.510</td>\n",
       "      <td>2</td>\n",
       "      <td>0</td>\n",
       "      <td>1297</td>\n",
       "    </tr>\n",
       "    <tr>\n",
       "      <th>2</th>\n",
       "      <td>51</td>\n",
       "      <td>1</td>\n",
       "      <td>39.700</td>\n",
       "      <td>1</td>\n",
       "      <td>0</td>\n",
       "      <td>634</td>\n",
       "    </tr>\n",
       "    <tr>\n",
       "      <th>3</th>\n",
       "      <td>47</td>\n",
       "      <td>1</td>\n",
       "      <td>36.080</td>\n",
       "      <td>1</td>\n",
       "      <td>1</td>\n",
       "      <td>1022</td>\n",
       "    </tr>\n",
       "    <tr>\n",
       "      <th>4</th>\n",
       "      <td>46</td>\n",
       "      <td>0</td>\n",
       "      <td>28.900</td>\n",
       "      <td>2</td>\n",
       "      <td>0</td>\n",
       "      <td>178</td>\n",
       "    </tr>\n",
       "    <tr>\n",
       "      <th>...</th>\n",
       "      <td>...</td>\n",
       "      <td>...</td>\n",
       "      <td>...</td>\n",
       "      <td>...</td>\n",
       "      <td>...</td>\n",
       "      <td>...</td>\n",
       "    </tr>\n",
       "    <tr>\n",
       "      <th>998</th>\n",
       "      <td>18</td>\n",
       "      <td>0</td>\n",
       "      <td>31.350</td>\n",
       "      <td>4</td>\n",
       "      <td>0</td>\n",
       "      <td>1095</td>\n",
       "    </tr>\n",
       "    <tr>\n",
       "      <th>999</th>\n",
       "      <td>39</td>\n",
       "      <td>0</td>\n",
       "      <td>23.870</td>\n",
       "      <td>5</td>\n",
       "      <td>0</td>\n",
       "      <td>1130</td>\n",
       "    </tr>\n",
       "    <tr>\n",
       "      <th>1000</th>\n",
       "      <td>58</td>\n",
       "      <td>1</td>\n",
       "      <td>25.175</td>\n",
       "      <td>0</td>\n",
       "      <td>0</td>\n",
       "      <td>1294</td>\n",
       "    </tr>\n",
       "    <tr>\n",
       "      <th>1001</th>\n",
       "      <td>37</td>\n",
       "      <td>0</td>\n",
       "      <td>47.600</td>\n",
       "      <td>2</td>\n",
       "      <td>1</td>\n",
       "      <td>860</td>\n",
       "    </tr>\n",
       "    <tr>\n",
       "      <th>1002</th>\n",
       "      <td>55</td>\n",
       "      <td>1</td>\n",
       "      <td>29.900</td>\n",
       "      <td>0</td>\n",
       "      <td>0</td>\n",
       "      <td>1126</td>\n",
       "    </tr>\n",
       "  </tbody>\n",
       "</table>\n",
       "<p>1003 rows × 6 columns</p>\n",
       "</div>"
      ],
      "text/plain": [
       "      age  sex     bmi  children  smoker    id\n",
       "0      24    1  23.655         0       0   693\n",
       "1      28    0  26.510         2       0  1297\n",
       "2      51    1  39.700         1       0   634\n",
       "3      47    1  36.080         1       1  1022\n",
       "4      46    0  28.900         2       0   178\n",
       "...   ...  ...     ...       ...     ...   ...\n",
       "998    18    0  31.350         4       0  1095\n",
       "999    39    0  23.870         5       0  1130\n",
       "1000   58    1  25.175         0       0  1294\n",
       "1001   37    0  47.600         2       1   860\n",
       "1002   55    1  29.900         0       0  1126\n",
       "\n",
       "[1003 rows x 6 columns]"
      ]
     },
     "execution_count": 44,
     "metadata": {},
     "output_type": "execute_result"
    }
   ],
   "source": [
    "feature_cols = ['age','sex','bmi','children','smoker','id']\n",
    "X = df_train[feature_cols]\n",
    "X"
   ]
  },
  {
   "cell_type": "code",
   "execution_count": 45,
   "metadata": {},
   "outputs": [
    {
     "data": {
      "text/plain": [
       "0        2352.96845\n",
       "1        4340.44090\n",
       "2        9391.34600\n",
       "3       42211.13820\n",
       "4        8823.27900\n",
       "           ...     \n",
       "998      4561.18850\n",
       "999      8582.30230\n",
       "1000    11931.12525\n",
       "1001    46113.51100\n",
       "1002    10214.63600\n",
       "Name: charges, Length: 1003, dtype: float64"
      ]
     },
     "execution_count": 45,
     "metadata": {},
     "output_type": "execute_result"
    }
   ],
   "source": [
    "y = df_train['charges']\n",
    "y"
   ]
  },
  {
   "cell_type": "code",
   "execution_count": 46,
   "metadata": {},
   "outputs": [
    {
     "data": {
      "text/plain": [
       "0     2352.96845\n",
       "1     4340.44090\n",
       "2     9391.34600\n",
       "3    42211.13820\n",
       "4     8823.27900\n",
       "Name: charges, dtype: float64"
      ]
     },
     "execution_count": 46,
     "metadata": {},
     "output_type": "execute_result"
    }
   ],
   "source": [
    "y.head()"
   ]
  },
  {
   "cell_type": "code",
   "execution_count": 47,
   "metadata": {},
   "outputs": [
    {
     "name": "stdout",
     "output_type": "stream",
     "text": [
      "(1003, 6)\n",
      "(1003,)\n"
     ]
    }
   ],
   "source": [
    "print(X.shape)\n",
    "print(y.shape)"
   ]
  },
  {
   "cell_type": "markdown",
   "metadata": {},
   "source": [
    "###### Splitting Dataset into testing and training"
   ]
  },
  {
   "cell_type": "code",
   "execution_count": 48,
   "metadata": {},
   "outputs": [],
   "source": [
    "from sklearn.model_selection import train_test_split"
   ]
  },
  {
   "cell_type": "code",
   "execution_count": 49,
   "metadata": {},
   "outputs": [],
   "source": [
    "X_train,X_test,y_train,y_test = train_test_split(X,y,test_size=0.2, random_state=30)"
   ]
  },
  {
   "cell_type": "code",
   "execution_count": 50,
   "metadata": {},
   "outputs": [
    {
     "data": {
      "text/html": [
       "<div>\n",
       "<style scoped>\n",
       "    .dataframe tbody tr th:only-of-type {\n",
       "        vertical-align: middle;\n",
       "    }\n",
       "\n",
       "    .dataframe tbody tr th {\n",
       "        vertical-align: top;\n",
       "    }\n",
       "\n",
       "    .dataframe thead th {\n",
       "        text-align: right;\n",
       "    }\n",
       "</style>\n",
       "<table border=\"1\" class=\"dataframe\">\n",
       "  <thead>\n",
       "    <tr style=\"text-align: right;\">\n",
       "      <th></th>\n",
       "      <th>age</th>\n",
       "      <th>sex</th>\n",
       "      <th>bmi</th>\n",
       "      <th>children</th>\n",
       "      <th>smoker</th>\n",
       "      <th>id</th>\n",
       "    </tr>\n",
       "  </thead>\n",
       "  <tbody>\n",
       "    <tr>\n",
       "      <th>797</th>\n",
       "      <td>18</td>\n",
       "      <td>0</td>\n",
       "      <td>39.82</td>\n",
       "      <td>0</td>\n",
       "      <td>0</td>\n",
       "      <td>1248</td>\n",
       "    </tr>\n",
       "    <tr>\n",
       "      <th>767</th>\n",
       "      <td>42</td>\n",
       "      <td>0</td>\n",
       "      <td>26.18</td>\n",
       "      <td>1</td>\n",
       "      <td>0</td>\n",
       "      <td>800</td>\n",
       "    </tr>\n",
       "    <tr>\n",
       "      <th>932</th>\n",
       "      <td>20</td>\n",
       "      <td>0</td>\n",
       "      <td>31.46</td>\n",
       "      <td>0</td>\n",
       "      <td>0</td>\n",
       "      <td>815</td>\n",
       "    </tr>\n",
       "    <tr>\n",
       "      <th>742</th>\n",
       "      <td>48</td>\n",
       "      <td>0</td>\n",
       "      <td>35.91</td>\n",
       "      <td>1</td>\n",
       "      <td>0</td>\n",
       "      <td>658</td>\n",
       "    </tr>\n",
       "    <tr>\n",
       "      <th>995</th>\n",
       "      <td>60</td>\n",
       "      <td>0</td>\n",
       "      <td>28.70</td>\n",
       "      <td>1</td>\n",
       "      <td>0</td>\n",
       "      <td>466</td>\n",
       "    </tr>\n",
       "  </tbody>\n",
       "</table>\n",
       "</div>"
      ],
      "text/plain": [
       "     age  sex    bmi  children  smoker    id\n",
       "797   18    0  39.82         0       0  1248\n",
       "767   42    0  26.18         1       0   800\n",
       "932   20    0  31.46         0       0   815\n",
       "742   48    0  35.91         1       0   658\n",
       "995   60    0  28.70         1       0   466"
      ]
     },
     "execution_count": 50,
     "metadata": {},
     "output_type": "execute_result"
    }
   ],
   "source": [
    "X_train.head()"
   ]
  },
  {
   "cell_type": "code",
   "execution_count": 51,
   "metadata": {},
   "outputs": [
    {
     "data": {
      "text/html": [
       "<div>\n",
       "<style scoped>\n",
       "    .dataframe tbody tr th:only-of-type {\n",
       "        vertical-align: middle;\n",
       "    }\n",
       "\n",
       "    .dataframe tbody tr th {\n",
       "        vertical-align: top;\n",
       "    }\n",
       "\n",
       "    .dataframe thead th {\n",
       "        text-align: right;\n",
       "    }\n",
       "</style>\n",
       "<table border=\"1\" class=\"dataframe\">\n",
       "  <thead>\n",
       "    <tr style=\"text-align: right;\">\n",
       "      <th></th>\n",
       "      <th>age</th>\n",
       "      <th>sex</th>\n",
       "      <th>bmi</th>\n",
       "      <th>children</th>\n",
       "      <th>smoker</th>\n",
       "      <th>id</th>\n",
       "    </tr>\n",
       "  </thead>\n",
       "  <tbody>\n",
       "    <tr>\n",
       "      <th>925</th>\n",
       "      <td>47</td>\n",
       "      <td>0</td>\n",
       "      <td>32.000</td>\n",
       "      <td>1</td>\n",
       "      <td>0</td>\n",
       "      <td>1076</td>\n",
       "    </tr>\n",
       "    <tr>\n",
       "      <th>923</th>\n",
       "      <td>53</td>\n",
       "      <td>0</td>\n",
       "      <td>26.600</td>\n",
       "      <td>0</td>\n",
       "      <td>0</td>\n",
       "      <td>216</td>\n",
       "    </tr>\n",
       "    <tr>\n",
       "      <th>700</th>\n",
       "      <td>30</td>\n",
       "      <td>1</td>\n",
       "      <td>35.300</td>\n",
       "      <td>0</td>\n",
       "      <td>1</td>\n",
       "      <td>19</td>\n",
       "    </tr>\n",
       "    <tr>\n",
       "      <th>87</th>\n",
       "      <td>40</td>\n",
       "      <td>1</td>\n",
       "      <td>34.105</td>\n",
       "      <td>1</td>\n",
       "      <td>0</td>\n",
       "      <td>325</td>\n",
       "    </tr>\n",
       "    <tr>\n",
       "      <th>881</th>\n",
       "      <td>50</td>\n",
       "      <td>1</td>\n",
       "      <td>36.200</td>\n",
       "      <td>0</td>\n",
       "      <td>0</td>\n",
       "      <td>870</td>\n",
       "    </tr>\n",
       "  </tbody>\n",
       "</table>\n",
       "</div>"
      ],
      "text/plain": [
       "     age  sex     bmi  children  smoker    id\n",
       "925   47    0  32.000         1       0  1076\n",
       "923   53    0  26.600         0       0   216\n",
       "700   30    1  35.300         0       1    19\n",
       "87    40    1  34.105         1       0   325\n",
       "881   50    1  36.200         0       0   870"
      ]
     },
     "execution_count": 51,
     "metadata": {},
     "output_type": "execute_result"
    }
   ],
   "source": [
    "X_test.head()"
   ]
  },
  {
   "cell_type": "code",
   "execution_count": 52,
   "metadata": {},
   "outputs": [
    {
     "data": {
      "text/plain": [
       "797     1633.96180\n",
       "767     7046.72220\n",
       "932     1877.92940\n",
       "742    26392.26029\n",
       "995    13224.69300\n",
       "Name: charges, dtype: float64"
      ]
     },
     "execution_count": 52,
     "metadata": {},
     "output_type": "execute_result"
    }
   ],
   "source": [
    "y_train.head()"
   ]
  },
  {
   "cell_type": "code",
   "execution_count": 53,
   "metadata": {},
   "outputs": [
    {
     "data": {
      "text/plain": [
       "925     8551.34700\n",
       "923    10355.64100\n",
       "700    36837.46700\n",
       "87      6600.20595\n",
       "881     8457.81800\n",
       "Name: charges, dtype: float64"
      ]
     },
     "execution_count": 53,
     "metadata": {},
     "output_type": "execute_result"
    }
   ],
   "source": [
    "y_test.head()"
   ]
  },
  {
   "cell_type": "markdown",
   "metadata": {},
   "source": [
    "###### Applying StandardScalar to X_train and y_test"
   ]
  },
  {
   "cell_type": "code",
   "execution_count": 54,
   "metadata": {},
   "outputs": [],
   "source": [
    "from sklearn.preprocessing import StandardScaler"
   ]
  },
  {
   "cell_type": "code",
   "execution_count": 55,
   "metadata": {},
   "outputs": [],
   "source": [
    "scaler = StandardScaler()"
   ]
  },
  {
   "cell_type": "code",
   "execution_count": 56,
   "metadata": {},
   "outputs": [
    {
     "data": {
      "text/plain": [
       "Index(['age', 'sex', 'bmi', 'children', 'smoker', 'id', 'charges'], dtype='object')"
      ]
     },
     "execution_count": 56,
     "metadata": {},
     "output_type": "execute_result"
    }
   ],
   "source": [
    "df_train.columns"
   ]
  },
  {
   "cell_type": "code",
   "execution_count": 57,
   "metadata": {},
   "outputs": [],
   "source": [
    "X_train = scaler.fit_transform(X_train)\n",
    "X_test = scaler.fit_transform(X_test)"
   ]
  },
  {
   "cell_type": "markdown",
   "metadata": {},
   "source": [
    "###### Applying Linear Regression"
   ]
  },
  {
   "cell_type": "code",
   "execution_count": 58,
   "metadata": {},
   "outputs": [],
   "source": [
    "from sklearn.linear_model import LinearRegression"
   ]
  },
  {
   "cell_type": "code",
   "execution_count": 59,
   "metadata": {},
   "outputs": [
    {
     "data": {
      "text/plain": [
       "LinearRegression()"
      ]
     },
     "execution_count": 59,
     "metadata": {},
     "output_type": "execute_result"
    }
   ],
   "source": [
    "lr = LinearRegression()\n",
    "lr"
   ]
  },
  {
   "cell_type": "code",
   "execution_count": 60,
   "metadata": {},
   "outputs": [
    {
     "data": {
      "text/plain": [
       "LinearRegression()"
      ]
     },
     "execution_count": 60,
     "metadata": {},
     "output_type": "execute_result"
    }
   ],
   "source": [
    "lr.fit(X_train, y_train)"
   ]
  },
  {
   "cell_type": "markdown",
   "metadata": {},
   "source": [
    "###### Interpreting Model Coefficients"
   ]
  },
  {
   "cell_type": "code",
   "execution_count": 61,
   "metadata": {},
   "outputs": [
    {
     "data": {
      "text/plain": [
       "13235.757551197008"
      ]
     },
     "execution_count": 61,
     "metadata": {},
     "output_type": "execute_result"
    }
   ],
   "source": [
    "lr.intercept_"
   ]
  },
  {
   "cell_type": "code",
   "execution_count": 62,
   "metadata": {},
   "outputs": [
    {
     "data": {
      "text/plain": [
       "array([3601.54016662,  127.25478304, 1927.33187613,  546.43956808,\n",
       "       9678.80663756,  275.26348394])"
      ]
     },
     "execution_count": 62,
     "metadata": {},
     "output_type": "execute_result"
    }
   ],
   "source": [
    "lr.coef_"
   ]
  },
  {
   "cell_type": "code",
   "execution_count": 63,
   "metadata": {},
   "outputs": [
    {
     "data": {
      "text/plain": [
       "['age', 'sex', 'bmi', 'children', 'smoker', 'id']"
      ]
     },
     "execution_count": 63,
     "metadata": {},
     "output_type": "execute_result"
    }
   ],
   "source": [
    "feature_cols"
   ]
  },
  {
   "cell_type": "code",
   "execution_count": 64,
   "metadata": {},
   "outputs": [
    {
     "data": {
      "text/plain": [
       "['Intercept', 'age', 'sex', 'bmi', 'children', 'smoker', 'id']"
      ]
     },
     "execution_count": 64,
     "metadata": {},
     "output_type": "execute_result"
    }
   ],
   "source": [
    "feature_cols.insert(0,'Intercept')\n",
    "feature_cols"
   ]
  },
  {
   "cell_type": "code",
   "execution_count": 65,
   "metadata": {},
   "outputs": [
    {
     "data": {
      "text/plain": [
       "[3601.5401666170865,\n",
       " 127.2547830421293,\n",
       " 1927.3318761341336,\n",
       " 546.4395680810156,\n",
       " 9678.80663755808,\n",
       " 275.2634839392688]"
      ]
     },
     "execution_count": 65,
     "metadata": {},
     "output_type": "execute_result"
    }
   ],
   "source": [
    "coef = lr.coef_.tolist()\n",
    "coef"
   ]
  },
  {
   "cell_type": "code",
   "execution_count": 66,
   "metadata": {},
   "outputs": [
    {
     "data": {
      "text/plain": [
       "[13235.757551197008,\n",
       " 3601.5401666170865,\n",
       " 127.2547830421293,\n",
       " 1927.3318761341336,\n",
       " 546.4395680810156,\n",
       " 9678.80663755808,\n",
       " 275.2634839392688]"
      ]
     },
     "execution_count": 66,
     "metadata": {},
     "output_type": "execute_result"
    }
   ],
   "source": [
    "coef.insert(0,lr.intercept_)\n",
    "coef"
   ]
  },
  {
   "cell_type": "code",
   "execution_count": 67,
   "metadata": {},
   "outputs": [
    {
     "name": "stdout",
     "output_type": "stream",
     "text": [
      "Intercept 13235.757551197008\n",
      "age 3601.5401666170865\n",
      "sex 127.2547830421293\n",
      "bmi 1927.3318761341336\n",
      "children 546.4395680810156\n",
      "smoker 9678.80663755808\n",
      "id 275.2634839392688\n"
     ]
    }
   ],
   "source": [
    "eq1 = zip(feature_cols, coef)\n",
    "\n",
    "for c1, c2 in eq1:\n",
    "    print(c1,c2)"
   ]
  },
  {
   "cell_type": "markdown",
   "metadata": {},
   "source": [
    "###### Using the Model for Prediction"
   ]
  },
  {
   "cell_type": "code",
   "execution_count": 68,
   "metadata": {},
   "outputs": [],
   "source": [
    "y_pred_train = lr.predict(X_train)"
   ]
  },
  {
   "cell_type": "code",
   "execution_count": 69,
   "metadata": {},
   "outputs": [],
   "source": [
    "y_pred_test = lr.predict(X_test)"
   ]
  },
  {
   "cell_type": "code",
   "execution_count": 70,
   "metadata": {},
   "outputs": [
    {
     "data": {
      "text/plain": [
       "array([ 5.61110369e+03,  7.58721281e+03,  3.18902597e+03,  1.20705015e+04,\n",
       "        1.27368417e+04,  1.32991321e+04,  3.56022866e+04,  5.70411293e+03,\n",
       "        9.71231166e+03, -4.08766770e+02,  7.85257874e+03,  6.13258020e+03,\n",
       "        8.63241807e+03,  5.88266054e+03,  8.78122760e+03,  5.84076417e+03,\n",
       "        5.50613108e+03,  1.57537106e+04,  8.89658805e+03,  5.93625804e+03,\n",
       "        1.32699601e+04,  1.23486296e+04,  1.05355504e+04,  7.21564558e+03,\n",
       "        1.86146373e+03,  1.57549852e+04,  1.13833586e+04,  1.08357979e+04,\n",
       "        7.92042196e+03,  4.73628832e+03,  3.42586743e+04,  9.87148482e+03,\n",
       "        2.70318129e+04,  2.74979358e+04,  1.26106558e+04,  1.13580676e+04,\n",
       "        1.14140144e+04,  1.03012472e+04,  1.49335816e+04,  1.02182004e+04,\n",
       "        7.69800989e+03,  8.06360806e+03,  8.26096948e+03,  1.27821190e+04,\n",
       "        7.76578520e+03,  1.07455996e+03,  1.24968744e+04, -8.64590671e+01,\n",
       "        5.90842308e+03,  3.22675317e+03,  1.23957162e+04,  6.56565889e+03,\n",
       "        3.61805463e+03,  1.05327161e+04,  6.61700731e+03,  3.52084802e+04,\n",
       "        2.86607166e+04,  1.12015375e+04,  3.61423711e+03,  1.62462403e+04,\n",
       "        1.09816657e+04,  2.94313084e+03,  3.48879398e+03,  1.35630379e+04,\n",
       "        4.94419415e+03, -9.72604363e+01,  5.73789494e+03,  4.77654582e+03,\n",
       "        2.55601611e+03,  1.23500227e+04,  1.16705722e+04,  3.13639004e+04,\n",
       "        8.05318292e+03,  1.28331728e+04,  4.21951922e+03,  3.38917776e+03,\n",
       "        8.31047229e+03,  1.46082726e+04,  7.45196985e+03,  1.27497540e+04,\n",
       "        1.29142538e+04,  7.03475058e+03,  1.78918550e+03,  9.01928985e+03,\n",
       "        3.69728246e+04,  1.07921347e+04,  3.38610710e+04,  1.19551053e+03,\n",
       "        3.62199123e+04,  6.85781418e+03,  1.74476202e+03,  1.40489089e+04,\n",
       "        1.73531898e+04,  2.55001443e+04,  1.00268444e+04,  3.60413216e+03,\n",
       "        3.97584950e+03,  3.66441988e+04,  7.77241418e+03,  2.65941196e+03,\n",
       "        5.05694185e+03,  2.96510566e+04,  8.87606755e+03,  2.86512891e+04,\n",
       "        3.89437048e+04,  7.55896839e+03,  5.45824551e+03,  1.32554548e+04,\n",
       "        8.23124930e+03,  9.69803212e+03,  9.49774409e+03, -8.75353391e+02,\n",
       "        1.12941082e+04,  3.71761350e+03,  1.40839930e+04,  1.36652238e+04,\n",
       "        8.24969710e+03,  1.32232530e+04,  3.89154307e+04,  8.61230726e+03,\n",
       "        1.30707928e+04,  1.28235570e+04,  8.11141760e+03,  5.63873257e+03,\n",
       "        4.07633865e+03,  4.50219443e+03,  3.04656103e+04,  2.61461317e+04,\n",
       "        7.18778333e+03,  4.53235173e+03,  3.76937456e+04,  3.67039554e+04,\n",
       "        2.77663106e+04,  9.57154300e+03,  3.41817006e+04,  8.18746937e+03,\n",
       "        5.25665630e+03,  8.13180897e+03,  2.91377595e+02,  7.07283769e+03,\n",
       "        1.46598036e+04,  6.53971197e+03,  2.85680503e+04,  1.15435461e+04,\n",
       "        4.31417087e+03,  7.77342158e+03,  1.06127887e+04,  1.52162107e+04,\n",
       "        1.08777083e+04,  1.20032172e+04,  2.79518500e+04,  1.18671831e+04,\n",
       "        1.34761985e+03,  1.14473044e+04,  3.39292727e+04,  3.34612079e+04,\n",
       "        1.00101751e+04,  3.43064926e+04,  9.86036880e+03,  9.71517034e+03,\n",
       "        1.53658725e+04,  2.82223274e+04,  3.93575620e+04,  8.92849994e+03,\n",
       "        9.35161284e+03,  1.26839448e+04,  1.31993282e+04,  7.10858805e+03,\n",
       "        1.12569934e+04,  3.20340662e+04,  1.61206121e+04,  1.05253601e+04,\n",
       "        7.50122671e+03,  2.18368542e+03,  3.18887728e+03,  1.02480365e+04,\n",
       "        6.77451442e+03,  4.51490335e+02,  9.09533357e+03,  8.31427303e+03,\n",
       "        6.59022200e+03,  1.24006464e+04,  2.68779615e+04,  7.37283106e+03,\n",
       "        3.75502192e+04,  3.54712122e+03,  6.38706178e+03,  3.35463625e+04,\n",
       "        6.55002090e+02,  2.87147084e+04,  3.37014984e+04,  2.64289164e+03,\n",
       "        5.67364295e+02,  1.06361245e+04,  7.65570691e+03,  4.11178464e+04,\n",
       "        4.81274751e+03,  1.03863797e+04,  1.43058261e+04,  5.46490388e+03,\n",
       "        1.10864551e+04,  1.94209361e+03,  3.57388963e+04,  1.43870314e+04,\n",
       "        1.48424229e+04,  3.84893810e+03,  4.82298860e+03,  9.35575358e+03,\n",
       "        3.56937559e+03, -2.39074878e+03,  3.43483403e+04,  6.56667869e+03,\n",
       "        7.39116390e+03,  4.79810109e+03,  4.13170443e+03,  1.09600971e+04,\n",
       "        3.89356786e+04,  1.05883352e+04,  1.45004214e+04,  3.47926302e+03,\n",
       "       -1.56795356e+02,  2.35990283e+04,  6.90420280e+03,  1.22393980e+03,\n",
       "        1.46294359e+04,  1.08108592e+04,  1.42793817e+04,  7.07249812e+03,\n",
       "        4.44655411e+03,  6.61561802e+03,  3.80600205e+04,  5.37299731e+03,\n",
       "        6.45170753e+03,  9.85134902e+03,  2.73459448e+04,  6.45661724e+03,\n",
       "        4.16570473e+04,  4.93412635e+03,  1.05782209e+04,  1.27951426e+04,\n",
       "        9.85731457e+03,  1.19812739e+04,  9.06048567e+03,  5.60730339e+03,\n",
       "        2.63978467e+04,  2.87178954e+04,  1.16955012e+04,  2.69109552e+04,\n",
       "        1.14984810e+04,  2.83182904e+04,  6.03376729e+03,  3.14215965e+03,\n",
       "        3.82698359e+03,  9.43550478e+03,  2.58103114e+03,  2.76189044e+04,\n",
       "        1.02992778e+04,  2.57956383e+03,  8.50718493e+03,  3.00525880e+04,\n",
       "        1.58349459e+04,  8.82512776e+03,  1.28675239e+04,  2.38666368e+04,\n",
       "        1.73664607e+04,  3.65374157e+04,  8.72995411e+03,  4.62297838e+03,\n",
       "        1.59432380e+04,  1.11512277e+04,  1.00904845e+04,  6.84749524e+03,\n",
       "       -8.32882607e+02,  1.19912762e+04,  1.33822022e+04,  3.82945965e+04,\n",
       "        1.09350374e+04,  1.59705276e+04,  4.74183078e+03,  8.19545071e+03,\n",
       "        1.64125020e+04,  6.63384526e+03,  5.57484521e+03,  1.17977874e+04,\n",
       "        3.80202152e+03,  9.22135233e+03,  4.43069216e+03,  6.74900371e+03,\n",
       "        1.40322655e+04,  1.26598667e+04,  1.03170824e+04,  5.91388963e+03,\n",
       "        3.00342683e+04,  3.78742837e+03,  8.44129051e+03,  1.18219680e+04,\n",
       "        8.92073923e+03,  2.82074454e+04,  4.05358760e+04,  1.31166582e+04,\n",
       "        6.54150470e+03,  1.40749181e+04,  1.13273978e+04,  1.48055844e+04,\n",
       "        4.08311047e+03,  1.24313192e+04,  4.35813781e+03,  1.46987814e+04,\n",
       "        9.90767328e+03,  2.89985478e+04,  2.92484328e+04,  2.91532912e+04,\n",
       "        2.83802275e+04,  1.08920154e+04,  2.79920134e+04,  1.12634098e+04,\n",
       "        1.32503858e+04,  2.60766416e+04,  8.06925917e+03,  1.08644937e+04,\n",
       "        8.21691601e+03,  1.15565870e+04,  9.61843715e+03,  1.19631614e+04,\n",
       "        1.18728297e+04,  3.18875583e+04,  3.48968266e+04,  1.35348609e+04,\n",
       "        1.50693976e+04,  9.06835632e+03,  2.71382788e+04,  6.05744838e+03,\n",
       "        1.18013782e+04,  1.22944617e+04,  6.31577623e+03,  4.28129309e+03,\n",
       "        1.01178990e+04, -9.96108663e+02,  5.17915561e+03,  1.24872800e+04,\n",
       "        1.18003519e+04,  1.37408126e+03,  4.39947528e+03,  2.49267495e+03,\n",
       "        1.76548833e+04,  5.44348313e+03,  4.04621292e+03,  5.52856753e+03,\n",
       "        3.26130578e+03,  1.59778460e+04,  1.74329658e+04,  3.09591180e+04,\n",
       "        1.04330578e+04,  1.51666035e+04,  5.29487861e+03,  3.82516328e+04,\n",
       "        2.18063883e+03,  1.01485082e+04,  3.16452093e+04,  9.69779836e+03,\n",
       "        1.15250416e+04,  6.04504374e+03,  5.90741758e+03,  1.45687776e+04,\n",
       "        2.90494506e+04,  1.59205249e+04,  3.16614177e+04,  3.58831668e+04,\n",
       "        8.68566750e+03,  6.46113058e+03,  3.06142034e+04,  3.16945584e+04,\n",
       "        9.56880158e+03,  3.83727164e+04,  1.72225097e+04,  1.01134890e+04,\n",
       "        3.43686579e+04,  9.86424744e+03,  3.67074192e+03,  3.43592087e+03,\n",
       "        9.46825678e+03,  2.67037977e+04,  1.27150125e+04,  1.11453955e+04,\n",
       "        3.04796401e+04,  8.75234526e+03,  1.96009505e+03,  1.08107508e+04,\n",
       "        8.63267944e+03,  1.10208009e+04,  9.54010031e+03,  1.03246102e+04,\n",
       "        6.00772218e+03,  4.06948891e+03,  3.00063061e+04,  4.19419515e+03,\n",
       "        1.81716351e+04,  7.40459616e+03,  3.12149699e+04,  5.78923071e+03,\n",
       "        9.48776834e+03,  8.14318865e+03,  2.84155069e+04,  1.02035470e+04,\n",
       "        1.79930626e+04,  4.05449147e+03,  3.42262488e+04,  2.83411852e+04,\n",
       "        5.11843096e+03,  7.96900515e+03,  7.21152401e+03,  1.59960911e+04,\n",
       "        7.86940249e+03,  1.50125829e+04,  1.91245891e+03,  3.81915104e+03,\n",
       "        4.63931655e+03,  3.50378679e+04,  6.97748597e+03,  8.95580180e+03,\n",
       "        9.60774799e+03,  1.25845800e+04,  9.77846611e+03,  9.96365011e+03,\n",
       "        8.46656285e+02,  3.45665749e+04,  2.68071293e+04,  3.39907713e+04,\n",
       "        6.87669402e+03,  2.53252892e+04,  7.09348392e+03,  8.11165940e+03,\n",
       "        3.29587686e+04,  1.21820673e+04,  2.82418937e+03,  1.12694939e+04,\n",
       "        1.72602062e+04,  5.38244578e+03,  1.46061221e+04,  8.35070397e+03,\n",
       "        1.86176398e+04,  1.42632579e+04,  3.46896299e+04,  2.78633505e+04,\n",
       "        4.67590644e+02,  1.31355245e+04,  9.07446333e+03,  1.02048348e+04,\n",
       "        5.52660305e+03,  1.08652898e+04,  1.37048146e+04,  3.41896046e+03,\n",
       "        3.98059761e+04,  4.09112624e+03,  1.31656506e+04,  3.53768441e+04,\n",
       "        6.61822294e+03,  1.01072753e+04,  3.22059414e+04,  5.49810022e+03,\n",
       "        3.08142855e+04,  1.16575369e+04,  5.29097377e+03,  1.21192080e+04,\n",
       "        3.05530177e+04,  5.82366689e+03, -1.76965986e+03,  1.07336990e+04,\n",
       "        3.25681675e+04,  3.75688568e+04,  2.30237495e+04,  5.77311043e+03,\n",
       "        9.27841137e+03,  3.41658609e+04,  3.38373524e+04,  1.13826545e+04,\n",
       "        1.40554400e+04,  1.00074098e+04,  1.20235984e+04,  1.45644438e+04,\n",
       "        9.37935662e+03,  2.75410719e+04,  1.36420539e+04,  1.03351005e+04,\n",
       "        1.90971934e+03,  4.91509706e+03,  1.36022098e+04,  1.19078024e+04,\n",
       "        1.44336400e+04,  1.37198312e+03,  4.88157135e+03,  1.10227193e+04,\n",
       "        1.37043083e+04,  3.19207864e+03,  1.19966558e+04,  3.59437651e+03,\n",
       "        1.36617903e+04,  3.34462237e+04,  3.09340253e+04,  1.69813565e+04,\n",
       "        3.37563032e+03,  2.98579344e+04,  1.55189911e+04,  1.17975086e+04,\n",
       "        2.72229939e+04,  1.42638448e+04,  3.65208142e+04,  8.08435451e+03,\n",
       "        1.72180389e+04,  2.77851478e+04,  1.15958500e+04,  1.66427924e+04,\n",
       "        1.55472822e+04,  8.56230472e+03,  3.71831033e+04,  5.16660706e+03,\n",
       "        1.32484830e+04,  3.99911312e+04,  1.24896853e+03,  3.20508392e+04,\n",
       "        1.19642724e+04,  1.18175229e+04,  6.67778458e+03,  6.80679590e+03,\n",
       "        3.97249383e+04,  3.38855280e+04,  1.38002683e+04,  3.28496309e+04,\n",
       "        1.46608991e+04,  3.75110686e+04,  3.60747110e+04,  4.63235155e+03,\n",
       "        9.07095638e+02,  1.09816061e+04,  1.30865738e+04,  8.49837620e+03,\n",
       "        3.13833213e+03,  6.90335192e+03,  2.85593119e+03,  3.73497740e+04,\n",
       "        6.55772325e+03,  3.27808816e+04,  3.53776178e+04,  1.07804358e+04,\n",
       "        1.28803616e+04,  1.25164608e+04,  1.45327148e+03,  3.76748223e+03,\n",
       "        6.71249618e+03,  1.01978404e+04,  1.09548789e+04,  5.85813996e+03,\n",
       "        5.00215645e+03,  7.07559316e+03,  4.16699250e+03,  1.12688473e+04,\n",
       "        1.40099397e+04,  3.22153923e+04,  7.95529190e+03,  1.50288300e+04,\n",
       "        1.14425788e+04,  1.23267181e+04,  3.39844429e+03,  5.16825192e+03,\n",
       "        2.84768145e+04,  6.28832785e+03,  9.24666841e+03,  6.26398758e+03,\n",
       "        3.30522369e+03,  3.01031200e+04,  5.06785231e+03,  1.14296019e+04,\n",
       "        1.21610477e+04,  1.21522926e+04,  9.76496018e+03,  1.14089385e+04,\n",
       "        4.67699292e+03,  1.08289310e+04,  3.61963826e+04,  6.64899715e+03,\n",
       "        4.58561707e+03,  8.14444663e+03,  8.46399343e+03,  6.93864452e+03,\n",
       "        1.34495963e+04,  6.46040436e+03,  2.48971319e+03,  3.03924977e+04,\n",
       "        1.21545784e+04,  1.31163971e+04,  1.06769787e+04,  6.84129377e+03,\n",
       "        4.86282826e+03,  2.95348246e+04,  1.10621644e+04,  1.34175261e+04,\n",
       "        1.62981852e+04,  8.54539425e+03,  1.48077869e+04,  3.69811478e+03,\n",
       "        9.46092376e+03,  1.09457593e+04,  8.59329917e+03,  2.79550738e+03,\n",
       "        3.30526388e+04,  2.69635170e+03,  1.51167977e+04,  1.27343366e+04,\n",
       "        3.08673321e+04,  1.27794175e+04,  4.36273527e+03,  1.69233977e+04,\n",
       "        3.77635570e+04,  3.43224576e+04,  9.97801760e+03,  3.30478101e+04,\n",
       "        4.88438229e+03,  6.41075162e+03,  1.12569158e+04,  8.71493928e+03,\n",
       "        5.54593693e+03,  1.00466806e+04,  1.09844842e+04,  9.60326770e+03,\n",
       "        1.03200409e+04,  8.73991155e+03,  7.68000582e+03,  6.68466123e+03,\n",
       "        5.64391426e+03,  1.26502127e+03,  4.02697546e+04,  2.16680360e+03,\n",
       "        3.62404323e+03,  3.43613441e+03,  7.28314822e+03,  3.29970052e+04,\n",
       "        1.26873793e+04,  3.99892097e+04,  6.21430530e+03,  3.33373075e+04,\n",
       "        2.49559788e+04,  1.14300316e+04,  6.29932839e+03,  1.14081432e+04,\n",
       "        5.36619122e+03,  7.89036752e+03,  3.07068183e+04,  1.12649966e+04,\n",
       "        3.00155784e+04,  3.20566829e+04,  9.73907636e+03,  9.49950410e+01,\n",
       "        1.11071637e+04,  1.46290659e+04,  9.85315938e+03,  5.79900604e+03,\n",
       "        1.58906199e+04,  1.49705842e+04,  2.47673750e+04,  1.07359263e+04,\n",
       "        2.88870249e+02,  6.22406965e+03,  3.18419356e+04,  8.48434156e+03,\n",
       "        8.44816177e+03,  2.45091484e+04,  2.45412259e+04,  3.10649581e+03,\n",
       "        1.83926631e+03,  5.66244363e+03,  2.65041514e+04,  2.01501147e+03,\n",
       "        2.32333237e+03,  5.38454252e+03,  3.99385507e+03,  9.31797484e+03,\n",
       "        1.52942121e+04,  3.04022675e+04,  3.97403169e+03,  5.28395274e+03,\n",
       "        3.73400484e+03,  1.90977718e+03,  6.71956752e+03,  1.34694342e+04,\n",
       "        3.59967753e+04,  7.61395428e+03,  2.64941973e+03,  2.90540469e+03,\n",
       "        5.62626533e+02,  6.19687655e+03,  1.16420895e+04,  2.08712206e+03,\n",
       "        2.49744552e+03,  3.75302343e+04,  4.84724713e+03,  1.50970275e+04,\n",
       "        2.00941819e+03,  3.46072938e+04,  1.05278949e+04,  7.79015650e+02,\n",
       "        8.49826185e+03,  8.33702434e+03,  3.80560190e+04,  1.94894403e+03,\n",
       "        7.26939331e+03,  9.95404363e+03,  9.65374485e+03,  5.03779684e+02,\n",
       "        1.13449104e+04,  2.90400034e+04,  9.82515673e+03, -6.18207035e+02,\n",
       "        2.39908461e+04,  1.18674604e+04,  5.37128113e+03,  9.90133838e+03,\n",
       "        3.64873060e+03,  5.05874908e+03,  3.88042575e+04,  1.14403287e+04,\n",
       "        1.59993507e+04,  2.33392956e+03,  6.88114169e+03,  3.99193733e+03,\n",
       "        7.76738588e+03,  1.34953008e+04,  2.48334897e+03,  3.64115373e+02,\n",
       "        4.93930353e+03,  3.92719586e+04,  3.49136764e+03,  2.25389937e+03,\n",
       "        5.57528365e+03,  3.51814767e+03,  7.72934993e+03,  1.20143909e+04,\n",
       "        1.32369595e+04,  2.47057412e+03,  3.43269905e+03,  3.50169160e+04,\n",
       "        2.10679723e+03,  3.90681138e+04,  4.58012465e+03,  6.04036715e+03,\n",
       "        1.21505286e+04,  8.12100225e+03,  8.07580169e+03,  4.48458405e+03,\n",
       "        5.72037905e+03,  9.14270655e+03,  8.45394766e+02,  2.98558858e+04,\n",
       "        3.04584146e+04,  9.10319015e+03,  1.58980427e+04,  3.51379470e+03,\n",
       "        1.09661800e+04,  6.72143841e+03,  1.53702906e+04,  1.37595487e+04,\n",
       "        1.42668546e+04,  1.24133614e+04,  3.09736918e+04,  3.19685465e+04,\n",
       "        7.93687889e+03,  1.63498726e+01,  2.58461150e+04,  3.51868678e+04,\n",
       "        5.01544080e+03,  3.08474951e+04,  1.13423716e+04,  7.35910740e+03,\n",
       "        7.01504860e+03,  1.49391435e+04,  1.11689824e+04,  6.97433285e+03,\n",
       "        1.38375944e+04,  2.95466883e+04,  3.52932416e+03,  5.07632195e+03,\n",
       "        2.69227856e+03,  1.15926348e+04,  9.85865027e+03,  1.15239427e+04,\n",
       "        1.42476249e+04,  7.23019145e+03,  3.06417708e+03,  3.42202776e+04,\n",
       "       -3.24956134e+02,  1.03544082e+04,  2.16421468e+03,  8.08524547e+03,\n",
       "        1.49834902e+04,  3.82972755e+04,  1.10393991e+04,  4.45030062e+02,\n",
       "        3.03839081e+04,  6.61481783e+03,  1.06553722e+04,  2.45152297e+03,\n",
       "        8.20714420e+03,  1.64157541e+04])"
      ]
     },
     "execution_count": 70,
     "metadata": {},
     "output_type": "execute_result"
    }
   ],
   "source": [
    "y_pred_train"
   ]
  },
  {
   "cell_type": "code",
   "execution_count": 71,
   "metadata": {},
   "outputs": [
    {
     "data": {
      "text/plain": [
       "array([10956.96260416,  9508.67292482, 30310.22504337,  9608.64482875,\n",
       "       12852.54680701, 12109.95713299, 28331.56989216, 12076.86351245,\n",
       "         556.05717882,  9256.61835061,  5545.01743532, 16541.25810156,\n",
       "        8820.73232633,  9833.75030202, 36862.72612848, 34764.92635228,\n",
       "       13816.07252624, 29224.48949678, 11074.29888163,  5766.78138453,\n",
       "        3416.07394709, 11091.2638688 , 34413.19259716,  6526.89164478,\n",
       "        8560.38095533,  5217.32601925, 10116.81106601,  4021.70708705,\n",
       "        6515.91774991, 25659.77115241, 29481.45607365,  3426.21240446,\n",
       "       17061.05935796,   842.3343721 ,  9293.84922107, 15665.53641362,\n",
       "       10202.13228316, 36230.17200531, 26760.82023998,  8972.47715007,\n",
       "        4590.60513878,  9776.4504303 , 10438.05315867, 10549.17357391,\n",
       "       13421.39383694,  6927.5171642 , 10923.10317855,  -977.69920696,\n",
       "         -98.02655317, 12150.51454915,  7411.34541093, 16270.93796147,\n",
       "       13095.86148458,  3565.99994596,  1798.73383055,  7557.02853544,\n",
       "        7246.01767198, 38271.84851448, 12355.61026479,  1458.72228171,\n",
       "       28397.53890284, 37009.84141495, 13087.97391037,  3158.73248209,\n",
       "       16263.12273895,  5157.28397991, 15679.84147541, 25958.31383567,\n",
       "       12440.6034028 ,  5614.87776429,  9321.36121129, 13676.70775357,\n",
       "       26902.27737242,  7623.24948976,  3983.56018728,  1629.28268526,\n",
       "       35193.57122535, 28892.44693957, 37463.10519705, 29198.78659183,\n",
       "        8590.07980231, 33573.53248387,  1090.52150285,  6946.44199501,\n",
       "        4689.47975168,  4550.96460414, 10774.97344351,  8394.23154472,\n",
       "        3027.805408  , 35212.96783221, 26813.97859561, 12038.41556655,\n",
       "       15101.64890829, 29422.43448169, 12747.98683138, 29038.74568724,\n",
       "        5299.57035407, 28625.66098037,  8801.81259501,  7857.09321961,\n",
       "       12432.0099747 , 12295.04295319,  9136.74780847, 10416.88096007,\n",
       "       10840.55065933, 15122.00223659,  1400.28641274,  8041.72894614,\n",
       "        9276.29485325,  1650.18031088, 15266.77614014, 11434.92719104,\n",
       "        5591.89722139,   484.62011473,  9825.8567343 ,  2227.75392409,\n",
       "       11102.71436214, 34566.09644366,  9471.99879621,  9596.07621525,\n",
       "        3795.58993256,  3526.97961043, 29675.72046639,  7797.24219512,\n",
       "        5242.58925274,  9658.45357534,  1200.46161277,  6464.12214013,\n",
       "       12017.60843028, 14220.0388877 , 29928.74587134,  8982.0385861 ,\n",
       "       15176.19195189,  9761.45725242, 12837.94320325,  7261.50218354,\n",
       "       33833.53240374,  9762.4202402 ,  7334.28436126, 15442.69951302,\n",
       "       10925.67394814, 39128.66221286,  4925.2133132 , 13038.46056007,\n",
       "        5524.90156876, 13609.13051173,  7311.43431796, 10618.60686898,\n",
       "        4125.78011406, 13571.05962463, 11782.70959539, 29157.53602984,\n",
       "       24528.08569785,  1142.69015243, 29627.04072938, 10177.08988084,\n",
       "        3159.30161424,  8365.02391558, 23827.75889151,  9555.57950401,\n",
       "        5654.40280255, 30857.17319761, 30062.21199099, 30442.17101971,\n",
       "        4956.38215511, 31013.10141746,  9773.72500121,  1583.22854874,\n",
       "       30440.51697559,  9109.35890262,  7519.08849992,   496.16687847,\n",
       "        7578.20809096,  8753.5747987 ,  8983.48240367, 32197.16297859,\n",
       "       36321.08995563,  8185.9432234 ,  9027.87864059,  9214.87791765,\n",
       "        5289.24122748, 32122.67275692, 14343.26151929, 12836.79051568,\n",
       "        3047.0151054 ,  1959.91802978, 33018.50760755, 14438.8627008 ,\n",
       "       10932.64378416,  6455.96248878,  7075.25169477,  5145.23415691,\n",
       "        3123.87120304, 13757.36971488,  2608.89914825,  6854.45754946,\n",
       "        2476.31351479, 15097.55598807,  3943.44490679, 11103.65746327,\n",
       "        7107.21619479])"
      ]
     },
     "execution_count": 71,
     "metadata": {},
     "output_type": "execute_result"
    }
   ],
   "source": [
    "y_pred_test"
   ]
  },
  {
   "cell_type": "code",
   "execution_count": 72,
   "metadata": {},
   "outputs": [
    {
     "data": {
      "text/plain": [
       "array([[ 0.53889385, -0.92796073,  0.37232702, -0.11773266, -0.5216818 ,\n",
       "         1.06965852],\n",
       "       [ 0.97477983, -0.92796073, -0.62558332, -1.02789672, -0.5216818 ,\n",
       "        -1.10097613],\n",
       "       [-0.69611641,  1.07763181,  0.98216112, -1.02789672,  1.91687731,\n",
       "        -1.59820291],\n",
       "       ...,\n",
       "       [-1.42259303, -0.92796073,  0.3335194 ,  0.79243139, -0.5216818 ,\n",
       "        -0.28067815],\n",
       "       [ 0.53889385,  1.07763181,  0.42776649, -0.11773266, -0.5216818 ,\n",
       "         0.28722045],\n",
       "       [-0.76876407,  1.07763181,  0.39265483,  0.79243139, -0.5216818 ,\n",
       "         1.31700991]])"
      ]
     },
     "execution_count": 72,
     "metadata": {},
     "output_type": "execute_result"
    }
   ],
   "source": [
    "X_test"
   ]
  },
  {
   "cell_type": "markdown",
   "metadata": {},
   "source": [
    "###### y = 13235.757551197006 + age * 3601.5401666170856 + sex * 127.25478304212501 + bmi * 1927.3318761341295 + children * 546.4395680810161 + smoker * 9678.806637558071 + id * 275.26348393926503"
   ]
  },
  {
   "cell_type": "code",
   "execution_count": 73,
   "metadata": {},
   "outputs": [
    {
     "data": {
      "text/plain": [
       "10956.962568567047"
      ]
     },
     "execution_count": 73,
     "metadata": {},
     "output_type": "execute_result"
    }
   ],
   "source": [
    "y = 13235.757551197006 + (0.53889385 * 3601.5401666170856) + (-0.92796073 * 127.25478304212501) + (0.37232702 * 1927.3318761341295) + (-0.11773266 * 546.4395680810161) + (-0.5216818 * 9678.806637558071) + (1.06965852 * 275.26348393926503)\n",
    "y"
   ]
  },
  {
   "cell_type": "markdown",
   "metadata": {},
   "source": [
    "###### Model evaluation"
   ]
  },
  {
   "cell_type": "code",
   "execution_count": 74,
   "metadata": {},
   "outputs": [],
   "source": [
    "from sklearn.metrics import mean_absolute_error, mean_squared_error"
   ]
  },
  {
   "cell_type": "code",
   "execution_count": 75,
   "metadata": {},
   "outputs": [],
   "source": [
    "MAE_train = mean_absolute_error(y_train, y_pred_train)\n",
    "MAE_test = mean_absolute_error(y_test, y_pred_test)"
   ]
  },
  {
   "cell_type": "code",
   "execution_count": 76,
   "metadata": {},
   "outputs": [
    {
     "name": "stdout",
     "output_type": "stream",
     "text": [
      "MAE for training set is 4076.101580133016\n",
      "MAE for test set is 4377.721065786468\n"
     ]
    }
   ],
   "source": [
    "print('MAE for training set is {}'.format(MAE_train))\n",
    "print('MAE for test set is {}'.format(MAE_test))"
   ]
  },
  {
   "cell_type": "code",
   "execution_count": 77,
   "metadata": {},
   "outputs": [],
   "source": [
    "MSE_train = mean_squared_error(y_train, y_pred_train)\n",
    "MSE_test = mean_squared_error(y_test, y_pred_test)"
   ]
  },
  {
   "cell_type": "code",
   "execution_count": 78,
   "metadata": {},
   "outputs": [
    {
     "name": "stdout",
     "output_type": "stream",
     "text": [
      "MSE for training set is 36109037.557732806\n",
      "MSE for testing is 40662914.70286329\n"
     ]
    }
   ],
   "source": [
    "print('MSE for training set is {}'.format(MSE_train))\n",
    "print('MSE for testing is {}'.format(MSE_test))"
   ]
  },
  {
   "cell_type": "markdown",
   "metadata": {},
   "source": [
    "###### Model Evaluation using Rsquared value"
   ]
  },
  {
   "cell_type": "code",
   "execution_count": 79,
   "metadata": {},
   "outputs": [],
   "source": [
    "from sklearn.metrics import r2_score"
   ]
  },
  {
   "cell_type": "code",
   "execution_count": 80,
   "metadata": {},
   "outputs": [],
   "source": [
    "r2_score_train = r2_score(y_train, y_pred_train)\n",
    "r2_score_test = r2_score(y_test, y_pred_test)"
   ]
  },
  {
   "cell_type": "code",
   "execution_count": 81,
   "metadata": {},
   "outputs": [
    {
     "data": {
      "text/plain": [
       "0.7551983744273858"
      ]
     },
     "execution_count": 81,
     "metadata": {},
     "output_type": "execute_result"
    }
   ],
   "source": [
    "r2_score_train"
   ]
  },
  {
   "cell_type": "code",
   "execution_count": 82,
   "metadata": {},
   "outputs": [
    {
     "data": {
      "text/plain": [
       "0.6997769018052864"
      ]
     },
     "execution_count": 82,
     "metadata": {},
     "output_type": "execute_result"
    }
   ],
   "source": [
    "r2_score_test"
   ]
  },
  {
   "cell_type": "code",
   "execution_count": 83,
   "metadata": {
    "scrolled": true
   },
   "outputs": [
    {
     "name": "stdout",
     "output_type": "stream",
     "text": [
      "Rsquared value for training set is 0.7551983744273858\n",
      "Rsquared for testing set is 0.6997769018052864\n"
     ]
    }
   ],
   "source": [
    "print('Rsquared value for training set is {}'.format(r2_score_train))\n",
    "print('Rsquared for testing set is {}'.format(r2_score_test))"
   ]
  },
  {
   "cell_type": "markdown",
   "metadata": {},
   "source": [
    "###### Applying Random Forest Regressor "
   ]
  },
  {
   "cell_type": "code",
   "execution_count": 84,
   "metadata": {},
   "outputs": [
    {
     "data": {
      "text/html": [
       "<div>\n",
       "<style scoped>\n",
       "    .dataframe tbody tr th:only-of-type {\n",
       "        vertical-align: middle;\n",
       "    }\n",
       "\n",
       "    .dataframe tbody tr th {\n",
       "        vertical-align: top;\n",
       "    }\n",
       "\n",
       "    .dataframe thead th {\n",
       "        text-align: right;\n",
       "    }\n",
       "</style>\n",
       "<table border=\"1\" class=\"dataframe\">\n",
       "  <thead>\n",
       "    <tr style=\"text-align: right;\">\n",
       "      <th></th>\n",
       "      <th>age</th>\n",
       "      <th>sex</th>\n",
       "      <th>bmi</th>\n",
       "      <th>children</th>\n",
       "      <th>smoker</th>\n",
       "      <th>region</th>\n",
       "      <th>id</th>\n",
       "      <th>charges</th>\n",
       "    </tr>\n",
       "  </thead>\n",
       "  <tbody>\n",
       "    <tr>\n",
       "      <th>0</th>\n",
       "      <td>24</td>\n",
       "      <td>0</td>\n",
       "      <td>23.655</td>\n",
       "      <td>0</td>\n",
       "      <td>0</td>\n",
       "      <td>3</td>\n",
       "      <td>693</td>\n",
       "      <td>2352.96845</td>\n",
       "    </tr>\n",
       "    <tr>\n",
       "      <th>1</th>\n",
       "      <td>28</td>\n",
       "      <td>1</td>\n",
       "      <td>26.510</td>\n",
       "      <td>2</td>\n",
       "      <td>0</td>\n",
       "      <td>0</td>\n",
       "      <td>1297</td>\n",
       "      <td>4340.44090</td>\n",
       "    </tr>\n",
       "    <tr>\n",
       "      <th>2</th>\n",
       "      <td>51</td>\n",
       "      <td>0</td>\n",
       "      <td>39.700</td>\n",
       "      <td>1</td>\n",
       "      <td>0</td>\n",
       "      <td>2</td>\n",
       "      <td>634</td>\n",
       "      <td>9391.34600</td>\n",
       "    </tr>\n",
       "    <tr>\n",
       "      <th>3</th>\n",
       "      <td>47</td>\n",
       "      <td>0</td>\n",
       "      <td>36.080</td>\n",
       "      <td>1</td>\n",
       "      <td>1</td>\n",
       "      <td>0</td>\n",
       "      <td>1022</td>\n",
       "      <td>42211.13820</td>\n",
       "    </tr>\n",
       "    <tr>\n",
       "      <th>4</th>\n",
       "      <td>46</td>\n",
       "      <td>1</td>\n",
       "      <td>28.900</td>\n",
       "      <td>2</td>\n",
       "      <td>0</td>\n",
       "      <td>2</td>\n",
       "      <td>178</td>\n",
       "      <td>8823.27900</td>\n",
       "    </tr>\n",
       "  </tbody>\n",
       "</table>\n",
       "</div>"
      ],
      "text/plain": [
       "   age  sex     bmi  children  smoker  region    id      charges\n",
       "0   24    0  23.655         0       0       3   693   2352.96845\n",
       "1   28    1  26.510         2       0       0  1297   4340.44090\n",
       "2   51    0  39.700         1       0       2   634   9391.34600\n",
       "3   47    0  36.080         1       1       0  1022  42211.13820\n",
       "4   46    1  28.900         2       0       2   178   8823.27900"
      ]
     },
     "execution_count": 84,
     "metadata": {},
     "output_type": "execute_result"
    }
   ],
   "source": [
    "df_train_copy.head()"
   ]
  },
  {
   "cell_type": "code",
   "execution_count": 85,
   "metadata": {},
   "outputs": [
    {
     "name": "stdout",
     "output_type": "stream",
     "text": [
      "Size of X_train_ :  (802, 7)\n",
      "Size of y_train_ :  (802, 1)\n",
      "Size of X_test_ :  (201, 7)\n",
      "Size of Y_test_ :  (201, 1)\n"
     ]
    }
   ],
   "source": [
    "X_ = df_train_copy.drop('charges',axis=1).values\n",
    "y_ = df_train_copy['charges'].values.reshape(-1,1)\n",
    "\n",
    "from sklearn.model_selection import train_test_split\n",
    "X_train_, X_test_, y_train_, y_test_ = train_test_split(X_,y_,test_size=0.2, random_state=42)\n",
    "\n",
    "print('Size of X_train_ : ', X_train_.shape)\n",
    "print('Size of y_train_ : ', y_train_.shape)\n",
    "print('Size of X_test_ : ', X_test_.shape)\n",
    "print('Size of Y_test_ : ', y_test_.shape)"
   ]
  },
  {
   "cell_type": "code",
   "execution_count": 86,
   "metadata": {},
   "outputs": [],
   "source": [
    "from sklearn.ensemble import RandomForestRegressor\n",
    "from sklearn.datasets import make_regression\n",
    "from sklearn.model_selection import GridSearchCV"
   ]
  },
  {
   "cell_type": "code",
   "execution_count": 87,
   "metadata": {},
   "outputs": [
    {
     "data": {
      "text/plain": [
       "RandomForestRegressor(max_depth=50, min_samples_leaf=12, min_samples_split=7,\n",
       "                      n_estimators=1200)"
      ]
     },
     "execution_count": 87,
     "metadata": {},
     "output_type": "execute_result"
    }
   ],
   "source": [
    "rf_reg = RandomForestRegressor(max_depth=50, min_samples_leaf=12, min_samples_split=7,\n",
    "                       n_estimators=1200)\n",
    "rf_reg.fit(X_train_, y_train_.ravel())"
   ]
  },
  {
   "cell_type": "code",
   "execution_count": 88,
   "metadata": {},
   "outputs": [
    {
     "data": {
      "text/plain": [
       "array([ 2974.62155356, 44415.77479343,  5255.34940385,  5891.24993293,\n",
       "       11726.10788148,  7135.82167504,  8944.89207894, 11228.75049678,\n",
       "       14537.82821391, 17568.70312764,  7242.21485346, 12807.14207198,\n",
       "        5491.55804507, 11423.52931743,  9887.77682024,  4368.09903962,\n",
       "       13170.64868866,  4656.4502828 , 11832.3112764 , 18657.14114285,\n",
       "       18897.98751818,  5839.9375734 ,  2832.36899489, 19807.81167757,\n",
       "       25327.38718811, 19504.05036635, 10813.37868016, 10672.18075652,\n",
       "       11971.83656732, 17408.7819214 , 36042.17691719, 41813.85005405,\n",
       "       13239.29248583,  6698.72211577, 18279.73141174, 11038.83287597,\n",
       "       13890.52379528,  2861.59054342, 14452.94065582,  3755.14770681,\n",
       "        2922.54094995, 44544.52433169,  3641.75272089,  5737.18463887,\n",
       "        8160.47654131, 19479.69199388, 44182.45924119, 17702.85145309,\n",
       "       43881.8333175 , 13203.88830077, 12259.71634562,  5764.24063123,\n",
       "        7665.20167075,  5542.34130353,  2534.42579271,  4753.33965032,\n",
       "        7748.49717413,  7902.06504314,  6300.79221704, 14990.13276781,\n",
       "        3110.91698669, 14264.51514617,  9418.2804487 ,  6832.86626373,\n",
       "        3044.48143929, 17586.30879795,  2200.11912923, 12837.18561583,\n",
       "        4750.55834155,  6588.49396609, 14847.72551735, 12154.78626559,\n",
       "       36372.57962883,  6824.87195273,  5477.49449714, 14613.87922621,\n",
       "        3123.87023178, 14747.14350719, 10546.04537072, 23428.380231  ,\n",
       "        7077.45028417, 25921.10772697,  1856.09582957,  9220.1529882 ,\n",
       "       25881.39806916,  2931.98958591,  4782.24944592, 12900.69909337,\n",
       "       42470.4582673 , 25929.98319091, 10173.06220967,  5993.22866156,\n",
       "        6385.06329838, 13145.95389157, 11755.98394766, 17483.75692894,\n",
       "       25863.17585525, 10680.58905767,  7554.04205755,  6895.40117077,\n",
       "       36024.02878376,  7020.10959149,  5414.1085255 ,  5937.53846522,\n",
       "        2400.37697692, 41454.040779  , 12919.00616438,  5364.16090113,\n",
       "        4607.18704046,  6841.12779978,  4295.95468718,  5909.58986009,\n",
       "        6156.10117427, 10179.98964077, 13263.29047397, 12343.32938322,\n",
       "       27307.44423946, 46602.80044784,  6954.93578648,  6254.50308116,\n",
       "       12778.73768812,  7359.2263645 ,  3538.21338923, 43088.3382783 ,\n",
       "        8038.76866994, 12112.01491343,  6565.59889675,  7296.18148209,\n",
       "        6087.03335865, 36113.52752284, 19261.0652844 ,  1986.69111185,\n",
       "       17314.77343576, 40518.59562608,  4515.57485493,  4767.90879256,\n",
       "        6290.58461049, 36915.64554593, 16733.53978331, 44200.31248351,\n",
       "       12239.0897074 ,  9355.55048394, 10980.83663467,  2188.84775884,\n",
       "        6674.51620089,  5699.05068083, 44330.60039305,  7728.31517009,\n",
       "       46979.70697124,  9612.65722514, 36073.8879974 ,  2522.04523636,\n",
       "       18803.6467445 , 11390.36845977, 14597.85079971, 11923.89449912,\n",
       "        9551.88292641,  2157.93501785,  4543.05871398, 17779.75232338,\n",
       "        4989.70076465,  5418.4006448 ,  2604.53937303,  1969.40067639,\n",
       "        1919.6803478 ,  6569.09727765, 18825.81443826,  5409.5755695 ,\n",
       "       13788.0059208 , 12903.75216887, 20138.03862354,  5828.41407502,\n",
       "       17223.17056694, 18484.00056843, 12227.05472414,  8349.13029346,\n",
       "       13822.83476305, 19192.28736527,  5914.44803663, 13379.59703066,\n",
       "       46097.84060433,  7279.41814336,  6461.45406936,  2445.42788864,\n",
       "       10648.79543085, 19694.24059349,  2541.38977634,  6321.53786886,\n",
       "        5943.86706783, 46819.93699121,  3048.11668397, 17540.87803601,\n",
       "       20111.26115541, 13844.14149814, 42235.17259651,  6280.36765545,\n",
       "        5880.70722724, 12977.88887256,  6513.04036368, 10472.26849707,\n",
       "       11908.862781  ,  6109.63645145,  6532.5364885 , 12889.82090661,\n",
       "       25857.15690623,  2903.45035996,  2913.54939642,  2236.2332143 ,\n",
       "       36526.82637298, 12303.62391276,  3537.63585083,  1697.96771418,\n",
       "       12031.21273753,  5804.32729084,  2838.43390828, 25873.44155622,\n",
       "        6964.11775042, 10338.40754817,  9090.19585489,  6449.56247723,\n",
       "        4006.83797058,  3893.7772358 , 44808.61007697, 14012.70205215,\n",
       "       25274.8881134 , 42950.35438924,  3774.98461203,  4237.06335848,\n",
       "       13266.51086791, 10461.77633825,  6143.68742445, 46396.90376811,\n",
       "       11511.75945459,  6101.70743152, 13841.48846096, 43329.59330785,\n",
       "        2895.64533384, 36851.90591688, 46532.89663955,  4456.40136239,\n",
       "        6475.34995899, 45701.93173029,  6052.95531753, 11800.65376423,\n",
       "        6878.90144353,  6693.15362953, 12367.82673248, 14611.66504559,\n",
       "       47220.22138653, 12452.72927257,  4790.19552379,  7258.07022599,\n",
       "       17238.90196687,  3450.246706  , 11444.7239768 ,  2217.95687465,\n",
       "        3475.47096687,  4080.22730344,  6945.90767635,  3994.55020413,\n",
       "        7698.68158077,  4878.8501516 , 14571.89095054,  3067.26169145,\n",
       "        6007.8749821 , 11410.95744635, 11120.60760652,  1867.81139432,\n",
       "       15007.29953867,  4897.24550476, 16444.79796879, 46362.77900691,\n",
       "        5317.64568214, 10863.25094453, 18912.48711878, 12790.01632176,\n",
       "        7570.26300779,  1708.0658262 , 36810.20982057,  6627.76666454,\n",
       "        5825.85065215,  8440.50707131, 13574.34345958,  6162.02410239,\n",
       "       11569.23868504,  9456.03783362, 11037.97033997, 12938.82447967,\n",
       "       12673.14627968,  3780.78991567,  5001.49835353, 10525.86049048,\n",
       "       11569.77362083, 11463.57056485,  5378.08400953,  5064.48154317,\n",
       "       10206.76668934,  5852.07617756, 19226.91573548, 19184.24915333,\n",
       "       11743.02504272,  3881.60903671, 43004.89529898,  5866.78969479,\n",
       "       11943.21969253,  7020.12679803, 11899.466735  , 10764.47379567,\n",
       "        4610.273421  ,  5097.04339737,  6648.7920231 ,  3299.92895824,\n",
       "       12076.2616459 ,  6822.12089704,  5807.58141374,  5903.35603806,\n",
       "       20039.68460642,  6540.88032459,  9106.75919544,  4667.50099696,\n",
       "       10882.9195527 , 12433.87414215, 24123.59266702, 10878.55639948,\n",
       "        7192.70327496, 12139.21197875, 24194.09253876,  4873.22314626,\n",
       "        6239.98695399,  6177.20978773, 12325.95815893, 10629.45597962,\n",
       "       16508.22673271, 46352.40152157,  6095.56861505,  5583.7339653 ,\n",
       "        9663.31255561, 14251.40925352, 10219.49721471, 13386.78108263,\n",
       "        2468.08767804, 14363.52697569, 13234.33618499, 10482.85192399,\n",
       "       10579.43554396, 43102.59365572,  2997.87903785, 44449.09279677,\n",
       "       36039.21343085, 13897.81951967,  2096.99906186,  7873.82994568,\n",
       "       10547.75422106,  7390.49369031,  9017.78425939, 17540.87803601,\n",
       "        7081.54631116, 31605.55387666,  6100.53470697, 10765.61628289,\n",
       "       24970.62894991, 11619.41865568,  4075.07506024, 11445.75568996,\n",
       "       43514.85590957,  7486.64152392, 10895.88556098,  6448.45223296,\n",
       "       19338.78912966, 18907.52963239,  5739.61800939,  5683.65729588,\n",
       "        9915.19703785,  4845.33145455, 10785.70327288, 46401.34986474,\n",
       "       10812.44760775,  4412.4705167 , 13238.91719359,  7556.11981791,\n",
       "        7827.9659529 , 10458.72842311, 23056.70004624, 40855.01538842,\n",
       "        7434.83797352,  4722.04189624, 12884.83947171,  6794.21944773,\n",
       "        7418.32136942,  5930.2359557 ,  5705.13573397, 13111.86496778,\n",
       "       11043.47093433, 12074.24228369,  4301.08303477, 23364.96820789,\n",
       "       41908.03829409, 41900.80357555, 46924.68548411,  5063.77844736,\n",
       "       14637.47864701, 12567.97609078, 11876.47969834, 11027.25848968,\n",
       "        9579.71937345, 17477.00186612,  1700.67139708, 23410.78603452,\n",
       "        6480.0888559 , 14716.6566276 , 25329.71943179, 17795.36013456,\n",
       "       36116.74376041, 17834.10546263, 17641.19387602, 11842.92806742,\n",
       "        2714.32833664,  5940.98716269, 19230.84642827,  9327.73568729,\n",
       "       15166.17849636,  5111.94167332,  8423.23187848, 14138.19159121,\n",
       "        3270.95949699, 17516.32936485,  4111.65874398,  5302.59912969,\n",
       "       10105.78065893,  6877.71482971, 19531.28947721, 19201.74776265,\n",
       "       13762.93939569,  5154.13078738,  7312.86522231, 11294.96241256,\n",
       "        2810.67650872,  6404.09258544, 23546.02776429, 44304.14062241,\n",
       "       15092.79778774,  6828.01037642,  5157.38304927,  2427.84816266,\n",
       "        6534.18022805,  8087.31754805, 36039.21343085,  5475.6683587 ,\n",
       "        6009.16409843,  3919.28489525, 14459.68406245,  4039.62690684,\n",
       "       10147.00501886, 11756.30945343,  6197.85747273, 13506.99964676,\n",
       "        5886.29562895,  9295.93170704,  5224.61776756, 17850.74732253,\n",
       "       17333.15626592,  6286.38169606, 25905.66692135, 25908.59854291,\n",
       "        6595.4933343 ,  4134.81237974, 46987.45557687,  9711.38079673,\n",
       "        8600.29879478, 12079.00061383,  7166.98304345,  4842.75452782,\n",
       "       46545.99474568, 25624.8429194 , 10587.94354483, 36814.59667272,\n",
       "       17538.4978641 , 14459.72946285,  3091.79650174,  2116.0740975 ,\n",
       "        4533.69286734, 12658.34984188,  2268.6737262 ,  2164.93303163,\n",
       "       36076.2928676 ,  5832.55675917, 19671.39546178, 13315.68870116,\n",
       "        6053.25551374, 14712.76568426,  4872.23010195,  4955.31921462,\n",
       "        6351.15352342, 20054.89146911, 19286.62171262, 12020.56763215,\n",
       "       13310.46237379, 13249.91572474,  3155.99452552, 12712.0984386 ,\n",
       "        6187.45269295,  2449.23029868, 37972.08689347,  6847.53986424,\n",
       "        3451.91334604,  6583.46342371,  6366.15450529,  6672.48015169,\n",
       "        2083.65775604, 10557.79510319, 13475.64190636,  8452.57483083,\n",
       "       44268.80761621,  4841.27376649, 10770.85801889,  7392.37100112,\n",
       "       14759.79990405,  6015.89848038,  8990.80203124, 25294.5261349 ,\n",
       "       12788.99983646, 13585.01543572, 14324.21214323,  6314.92857097,\n",
       "        6946.94246053, 11973.27357984,  2452.29746841,  4420.15046479,\n",
       "       13003.91683149, 11026.97259008, 13942.3806614 , 13885.00309948,\n",
       "       18614.07872273, 36118.10494629,  5423.95965037,  2697.89545003,\n",
       "        4804.80571653, 12914.85139535, 11418.66433428,  4736.88464947,\n",
       "       13547.44208128, 47062.94642909,  5823.93138667,  9764.86785716,\n",
       "        9410.01418715, 37268.83705541, 11739.96976154, 12170.13037339,\n",
       "        7120.26577409,  4972.48612158, 15056.18420015,  3349.96701569,\n",
       "        8488.36651147, 46236.35524747,  2930.96760261,  2745.62900204,\n",
       "       25366.01523114, 10411.2751038 , 44275.2957259 , 10829.38126337,\n",
       "       17383.61023282, 11901.77096277, 36732.5791916 ,  9247.71446969,\n",
       "        3829.02109194, 11223.16806481, 23068.31237488, 25919.0386495 ,\n",
       "       12398.39558204,  3125.448268  ,  8908.7709246 , 46441.56027353,\n",
       "        4413.79451124,  4352.02285497, 19485.48842318,  2696.69393574,\n",
       "       17968.90715943, 14418.50543249,  6735.57285306, 19300.36848369,\n",
       "        5201.51662516,  6314.68407263, 19557.68734551,  9848.76328331,\n",
       "        8420.04685241, 36877.91730982, 17084.16871634, 10718.5550212 ,\n",
       "       10487.97058667,  6310.26527695, 15880.21898314,  2824.84092533,\n",
       "       11824.61311323,  9664.13739378,  4496.0811558 , 14398.36677232,\n",
       "        2521.31590843,  2948.40197369, 17585.79183491, 44495.84258139,\n",
       "       14427.02620292,  2205.94015133,  5819.28656299,  1976.32325378,\n",
       "       44350.09246226, 36074.88503998,  8551.04431466, 25580.81325351,\n",
       "        3070.44504263, 12562.47542538, 11157.25083275, 23064.43305288,\n",
       "        7964.41114868, 11348.33541409, 25405.30990109,  5848.9673675 ,\n",
       "       12212.29395338,  5327.05961895, 11021.37010279,  6531.16518802,\n",
       "       19311.53894721, 11692.66127189, 11751.2957566 , 12610.45583981,\n",
       "        6548.30271258,  3399.67409742, 11190.25493277,  6605.919569  ,\n",
       "       11001.27699006, 46928.09598352, 25927.20583325, 25319.76741011,\n",
       "        6635.99542846,  7045.53208759,  2810.47172274,  5603.82604689,\n",
       "       10081.47159635, 23996.49774654, 36076.44808609,  3067.05575622,\n",
       "       15921.65388708, 18413.37813242,  1971.714762  , 14893.66034776,\n",
       "       14911.40395756,  4273.57219485, 14539.0534802 , 19916.6841628 ,\n",
       "       24716.08576661,  3143.39010858, 18177.43178188, 11045.30496738,\n",
       "        6805.14232309,  5052.2575645 , 11799.94010894, 46297.48469755,\n",
       "       13267.56726202,  7798.96705522, 10393.48747659, 20468.4297221 ,\n",
       "        7501.20598701,  7233.53506021,  5860.45872517,  6037.0105009 ,\n",
       "        8989.07735873, 10520.46408139, 11555.09105322,  2558.54900891,\n",
       "       11103.50588135,  3102.74332337, 11358.30880915, 16277.44194197,\n",
       "        4506.21421885,  8489.32030794,  5114.15205226, 36938.63226523,\n",
       "        5569.09136036, 36092.4532068 ,  3395.54443105, 14108.87479074,\n",
       "       10176.97052071, 14808.53113827, 12953.57556562, 16423.03633585,\n",
       "        1935.36273605,  9906.4268632 , 13866.43785844, 17838.97727966,\n",
       "       23009.49488287,  9216.37536461, 13807.03157014, 13460.60499775,\n",
       "       13753.56692273,  3299.16513969, 36412.14584992, 46516.07755815,\n",
       "        6049.29561096, 11187.15001193, 11725.61493645,  7005.66544391,\n",
       "       41806.76214412,  8665.77922818,  3201.39589749,  9553.49965807,\n",
       "       11612.11336739, 16673.53028852, 11719.56050568, 36492.93043115,\n",
       "       13008.17477252, 12674.78151177,  2033.49012895,  1824.34672853,\n",
       "       46148.88172247,  5577.11614647,  8003.07737387, 10585.50498102,\n",
       "       18886.32906954,  7117.33870598,  2872.77280514,  1876.8746107 ,\n",
       "       11529.72675563, 13416.4413324 ,  9864.98260596, 11243.25306296,\n",
       "        8203.01067143, 14119.17054626, 13974.6917535 ,  4041.53569972,\n",
       "        9266.32613447,  6582.39023768,  8336.45608468,  6725.62242938,\n",
       "       14950.48397412, 25926.74159956, 12612.58733481,  7017.58951295,\n",
       "       11090.07522801, 36429.8464779 ,  6216.15224608,  9750.59603406,\n",
       "        5367.87708612,  7870.89465808,  6934.54675476, 16314.3743512 ,\n",
       "        7434.15762498,  1949.39590418,  9601.6265829 ,  5269.65601376,\n",
       "       46228.15679202,  6057.10517072,  6224.21671289,  3407.35185223,\n",
       "        6122.77030899,  5937.31943426,  3416.15003329,  7716.20093879,\n",
       "       11037.13881859,  5808.42454827, 13594.54024012, 10792.4488469 ,\n",
       "        8932.1017377 ,  5925.06999545,  6311.01259852, 14516.26551596,\n",
       "       19283.00945628,  6225.17966876,  9364.1441353 , 46145.36936484,\n",
       "        5343.15213108,  6075.55779786,  7508.91932421,  7541.88569373,\n",
       "       13315.07555468,  7452.62385665,  6197.35039567, 14849.59768274,\n",
       "       46368.13157303, 14532.39672871,  5664.52358048, 46278.72845191,\n",
       "       37976.59786024, 36847.84299444,  5670.93993894, 12783.05586641,\n",
       "        5020.86617228,  7847.15595407,  6519.5724447 ,  6737.0557168 ,\n",
       "        6051.88652027,  4793.74075222, 10773.29898129, 12678.13019723,\n",
       "        6613.31392418,  5626.08681085, 36851.90591688, 37763.95871064,\n",
       "       37173.89602116,  3185.41709106, 11180.43216019,  1705.12834585,\n",
       "       11531.29532363, 10154.61210004])"
      ]
     },
     "execution_count": 88,
     "metadata": {},
     "output_type": "execute_result"
    }
   ],
   "source": [
    "y_pred_rf_train_ = rf_reg.predict(X_train_)\n",
    "y_pred_rf_train_"
   ]
  },
  {
   "cell_type": "code",
   "execution_count": 89,
   "metadata": {},
   "outputs": [
    {
     "data": {
      "text/plain": [
       "array([14815.47590687,  8220.90188218,  6578.03489714, 25875.76419657,\n",
       "       14974.52526154,  6564.33729942, 41158.62548118, 17778.03403599,\n",
       "       17731.76555524, 46202.45380363,  5743.56857841,  5989.7932041 ,\n",
       "       25269.18831751, 11776.73815432,  8790.62359666, 10677.40390801,\n",
       "        2981.4296184 ,  1724.63125213,  7373.1164883 ,  6186.34061152,\n",
       "       14996.95557955, 24697.08410367, 12938.62079661, 11167.69854935,\n",
       "       11043.54818075,  2974.85998996,  7600.80172235, 14756.03469097,\n",
       "       13842.29412952,  2070.98922536,  4586.08948081, 12469.29772081,\n",
       "       10536.97706147, 11439.70710288, 12691.28900193,  8002.66662447,\n",
       "       11903.60062817,  9126.95784873,  6252.04449563,  6157.34483563,\n",
       "        9117.70831533, 18328.82424689, 12211.91692453,  3515.63054166,\n",
       "       19216.57047675, 42009.98569482,  7441.49768849,  2880.72311809,\n",
       "        5617.2264389 , 46129.46924143, 17779.64845644, 12267.7027461 ,\n",
       "       10378.35045967, 13275.90203947, 16905.6454134 , 18422.49913265,\n",
       "       36757.28775668, 11308.66435837,  9950.35010026,  5950.58046488,\n",
       "        7460.24428731,  5361.34593038, 10135.79681601,  8917.78044441,\n",
       "       44010.93899851, 12911.02550911,  9211.90551259, 11572.04192546,\n",
       "        5593.74626158,  6761.51173347,  9001.97137132,  4456.6945968 ,\n",
       "        2050.05368695, 18866.01457144, 25294.5261349 ,  5587.68582413,\n",
       "        4044.44876197, 12218.78506577,  4029.32739071, 10742.67102827,\n",
       "       37285.63787102,  8447.08824645,  5014.75764686,  5958.05949146,\n",
       "       14899.11389844, 17571.87356055,  7813.63897673,  6666.04675345,\n",
       "       36889.47789496, 25878.6207115 , 11755.69652174,  6052.2348894 ,\n",
       "        3360.4756489 , 46641.67220369,  3961.87206345, 46669.08252161,\n",
       "        5016.3080884 , 10734.46228988,  1705.5555648 ,  5118.59742489,\n",
       "       14863.58968046, 14454.70825051, 13125.99432667, 12255.12441071,\n",
       "        5686.87544253, 21867.36089455,  7874.14160125, 14481.11815551,\n",
       "        6249.5099276 ,  2481.32366206,  2732.35140273,  5399.51083469,\n",
       "       12301.07678414,  7253.94732985, 11914.87180383,  5220.69266597,\n",
       "       12759.80378211, 19821.21291163, 10584.62171956,  7516.51789371,\n",
       "       42008.86721086, 10955.12200832, 14863.48791537, 14505.28482705,\n",
       "        9765.76888957,  7472.59099712, 11919.00383792, 13774.12350033,\n",
       "       12497.32625096,  2284.50189461, 14189.31936854,  4633.28758604,\n",
       "        5787.02169265, 40504.50503677,  6394.54464629,  4909.90546426,\n",
       "        7213.29121039, 11112.22784621, 19260.9266561 ,  3227.99738861,\n",
       "       44552.83469341,  3971.77577117, 11301.12729268,  5722.99996046,\n",
       "        2581.06591752,  2473.96027632,  2836.11267341,  6694.0885228 ,\n",
       "        8852.70536085,  7155.57955147, 13780.77204259,  5631.32807136,\n",
       "        6685.52143622,  4914.39896227, 44295.61599702,  5771.14136303,\n",
       "       10459.80097059,  5252.99516033, 14224.70577197,  6000.71400323,\n",
       "        6139.15297049, 10823.46952629,  7098.71709843, 12869.13746541,\n",
       "       11305.60656119,  7674.05276851, 37169.61366986,  6156.52213689,\n",
       "       14597.92668546, 36881.01472724, 36385.13916564,  7258.93846393,\n",
       "       19863.02556537, 36099.73236681,  2513.19166229,  7368.35284782,\n",
       "       10170.28805368, 47166.96646527, 11184.93132187,  7278.70450718,\n",
       "       13090.80677258,  3360.4756489 , 25872.95188803, 16750.8351015 ,\n",
       "        8066.06967086, 12448.50191582, 25249.1826045 , 36459.75869835,\n",
       "        4348.18644383, 17386.55280251,  5240.60680513,  7050.73522155,\n",
       "        5126.36328703,  7131.51514493,  6470.66102342, 18236.93808348,\n",
       "        5880.4973573 , 14419.69853583,  8992.66025053, 42469.41226208,\n",
       "        8706.00253123])"
      ]
     },
     "execution_count": 89,
     "metadata": {},
     "output_type": "execute_result"
    }
   ],
   "source": [
    "y_pred_rf_test_ = rf_reg.predict(X_test_)\n",
    "y_pred_rf_test_"
   ]
  },
  {
   "cell_type": "code",
   "execution_count": 90,
   "metadata": {},
   "outputs": [],
   "source": [
    "r2_score_rf_train_ = r2_score(y_train_, y_pred_rf_train_)\n",
    "r2_score_rf_test_ = r2_score(y_test_, y_pred_rf_test_)"
   ]
  },
  {
   "cell_type": "code",
   "execution_count": 91,
   "metadata": {},
   "outputs": [
    {
     "name": "stdout",
     "output_type": "stream",
     "text": [
      "R2 score (train) : 0.888\n",
      "R2 score (test) : 0.858\n"
     ]
    }
   ],
   "source": [
    "print('R2 score (train) : {0:.3f}'.format(r2_score_rf_train_))\n",
    "print('R2 score (test) : {0:.3f}'.format(r2_score_rf_test_))"
   ]
  },
  {
   "cell_type": "code",
   "execution_count": 92,
   "metadata": {},
   "outputs": [],
   "source": [
    "models = [('Linear Regression', r2_score_train, r2_score_test),\n",
    "          ('Random Forest Regression', r2_score_rf_train_, r2_score_rf_test_)]"
   ]
  },
  {
   "cell_type": "code",
   "execution_count": 93,
   "metadata": {},
   "outputs": [
    {
     "data": {
      "text/html": [
       "<div>\n",
       "<style scoped>\n",
       "    .dataframe tbody tr th:only-of-type {\n",
       "        vertical-align: middle;\n",
       "    }\n",
       "\n",
       "    .dataframe tbody tr th {\n",
       "        vertical-align: top;\n",
       "    }\n",
       "\n",
       "    .dataframe thead th {\n",
       "        text-align: right;\n",
       "    }\n",
       "</style>\n",
       "<table border=\"1\" class=\"dataframe\">\n",
       "  <thead>\n",
       "    <tr style=\"text-align: right;\">\n",
       "      <th></th>\n",
       "      <th>Model</th>\n",
       "      <th>R2_Score(training)</th>\n",
       "      <th>R2_Score(test)</th>\n",
       "    </tr>\n",
       "  </thead>\n",
       "  <tbody>\n",
       "    <tr>\n",
       "      <th>0</th>\n",
       "      <td>Linear Regression</td>\n",
       "      <td>0.755198</td>\n",
       "      <td>0.699777</td>\n",
       "    </tr>\n",
       "    <tr>\n",
       "      <th>1</th>\n",
       "      <td>Random Forest Regression</td>\n",
       "      <td>0.887910</td>\n",
       "      <td>0.857614</td>\n",
       "    </tr>\n",
       "  </tbody>\n",
       "</table>\n",
       "</div>"
      ],
      "text/plain": [
       "                      Model  R2_Score(training)  R2_Score(test)\n",
       "0         Linear Regression            0.755198        0.699777\n",
       "1  Random Forest Regression            0.887910        0.857614"
      ]
     },
     "execution_count": 93,
     "metadata": {},
     "output_type": "execute_result"
    }
   ],
   "source": [
    "predict = pd.DataFrame(data = models, columns=['Model', 'R2_Score(training)', 'R2_Score(test)'])\n",
    "predict"
   ]
  },
  {
   "cell_type": "code",
   "execution_count": 94,
   "metadata": {},
   "outputs": [
    {
     "data": {
      "text/html": [
       "<div>\n",
       "<style scoped>\n",
       "    .dataframe tbody tr th:only-of-type {\n",
       "        vertical-align: middle;\n",
       "    }\n",
       "\n",
       "    .dataframe tbody tr th {\n",
       "        vertical-align: top;\n",
       "    }\n",
       "\n",
       "    .dataframe thead th {\n",
       "        text-align: right;\n",
       "    }\n",
       "</style>\n",
       "<table border=\"1\" class=\"dataframe\">\n",
       "  <thead>\n",
       "    <tr style=\"text-align: right;\">\n",
       "      <th></th>\n",
       "      <th>764.00000</th>\n",
       "      <th>9095.06825</th>\n",
       "    </tr>\n",
       "  </thead>\n",
       "  <tbody>\n",
       "    <tr>\n",
       "      <th>0</th>\n",
       "      <td>887</td>\n",
       "      <td>5272.17580</td>\n",
       "    </tr>\n",
       "    <tr>\n",
       "      <th>1</th>\n",
       "      <td>890</td>\n",
       "      <td>29330.98315</td>\n",
       "    </tr>\n",
       "    <tr>\n",
       "      <th>2</th>\n",
       "      <td>1293</td>\n",
       "      <td>9301.89355</td>\n",
       "    </tr>\n",
       "    <tr>\n",
       "      <th>3</th>\n",
       "      <td>259</td>\n",
       "      <td>33750.29180</td>\n",
       "    </tr>\n",
       "    <tr>\n",
       "      <th>4</th>\n",
       "      <td>1312</td>\n",
       "      <td>4536.25900</td>\n",
       "    </tr>\n",
       "    <tr>\n",
       "      <th>5</th>\n",
       "      <td>899</td>\n",
       "      <td>2117.33885</td>\n",
       "    </tr>\n",
       "    <tr>\n",
       "      <th>6</th>\n",
       "      <td>752</td>\n",
       "      <td>14210.53595</td>\n",
       "    </tr>\n",
       "    <tr>\n",
       "      <th>7</th>\n",
       "      <td>1286</td>\n",
       "      <td>3732.62510</td>\n",
       "    </tr>\n",
       "    <tr>\n",
       "      <th>8</th>\n",
       "      <td>707</td>\n",
       "      <td>10264.44210</td>\n",
       "    </tr>\n",
       "    <tr>\n",
       "      <th>9</th>\n",
       "      <td>780</td>\n",
       "      <td>18259.21600</td>\n",
       "    </tr>\n",
       "    <tr>\n",
       "      <th>10</th>\n",
       "      <td>567</td>\n",
       "      <td>7256.72310</td>\n",
       "    </tr>\n",
       "    <tr>\n",
       "      <th>11</th>\n",
       "      <td>76</td>\n",
       "      <td>3947.41310</td>\n",
       "    </tr>\n",
       "    <tr>\n",
       "      <th>12</th>\n",
       "      <td>265</td>\n",
       "      <td>46151.12450</td>\n",
       "    </tr>\n",
       "    <tr>\n",
       "      <th>13</th>\n",
       "      <td>901</td>\n",
       "      <td>48673.55880</td>\n",
       "    </tr>\n",
       "    <tr>\n",
       "      <th>14</th>\n",
       "      <td>893</td>\n",
       "      <td>44202.65360</td>\n",
       "    </tr>\n",
       "    <tr>\n",
       "      <th>15</th>\n",
       "      <td>650</td>\n",
       "      <td>9800.88820</td>\n",
       "    </tr>\n",
       "    <tr>\n",
       "      <th>16</th>\n",
       "      <td>615</td>\n",
       "      <td>42969.85270</td>\n",
       "    </tr>\n",
       "    <tr>\n",
       "      <th>17</th>\n",
       "      <td>538</td>\n",
       "      <td>8233.09750</td>\n",
       "    </tr>\n",
       "    <tr>\n",
       "      <th>18</th>\n",
       "      <td>916</td>\n",
       "      <td>21774.32215</td>\n",
       "    </tr>\n",
       "  </tbody>\n",
       "</table>\n",
       "</div>"
      ],
      "text/plain": [
       "    764.00000    9095.06825\n",
       "0          887   5272.17580\n",
       "1          890  29330.98315\n",
       "2         1293   9301.89355\n",
       "3          259  33750.29180\n",
       "4         1312   4536.25900\n",
       "5          899   2117.33885\n",
       "6          752  14210.53595\n",
       "7         1286   3732.62510\n",
       "8          707  10264.44210\n",
       "9          780  18259.21600\n",
       "10         567   7256.72310\n",
       "11          76   3947.41310\n",
       "12         265  46151.12450\n",
       "13         901  48673.55880\n",
       "14         893  44202.65360\n",
       "15         650   9800.88820\n",
       "16         615  42969.85270\n",
       "17         538   8233.09750\n",
       "18         916  21774.32215"
      ]
     },
     "execution_count": 94,
     "metadata": {},
     "output_type": "execute_result"
    }
   ],
   "source": [
    "from pandas import read_excel\n",
    "submission = pd.read_excel(r'C:/Users/INTEL/Downloads/sample_submission.csv.xlsx')\n",
    "submission"
   ]
  },
  {
   "cell_type": "code",
   "execution_count": 95,
   "metadata": {},
   "outputs": [],
   "source": [
    "def UniqueResults(dataframe):\n",
    "    df = pd.DataFrame()\n",
    "    for col in dataframe:\n",
    "        S=pd.Series(dataframe[col].unique())\n",
    "        df[col]=S.values\n",
    "    return df"
   ]
  },
  {
   "cell_type": "code",
   "execution_count": 96,
   "metadata": {},
   "outputs": [
    {
     "data": {
      "text/plain": [
       "array([10956.96260416,  9508.67292482, 30310.22504337,  9608.64482875,\n",
       "       12852.54680701, 12109.95713299, 28331.56989216, 12076.86351245,\n",
       "         556.05717882,  9256.61835061,  5545.01743532, 16541.25810156,\n",
       "        8820.73232633,  9833.75030202, 36862.72612848, 34764.92635228,\n",
       "       13816.07252624, 29224.48949678, 11074.29888163,  5766.78138453,\n",
       "        3416.07394709, 11091.2638688 , 34413.19259716,  6526.89164478,\n",
       "        8560.38095533,  5217.32601925, 10116.81106601,  4021.70708705,\n",
       "        6515.91774991, 25659.77115241, 29481.45607365,  3426.21240446,\n",
       "       17061.05935796,   842.3343721 ,  9293.84922107, 15665.53641362,\n",
       "       10202.13228316, 36230.17200531, 26760.82023998,  8972.47715007,\n",
       "        4590.60513878,  9776.4504303 , 10438.05315867, 10549.17357391,\n",
       "       13421.39383694,  6927.5171642 , 10923.10317855,  -977.69920696,\n",
       "         -98.02655317, 12150.51454915,  7411.34541093, 16270.93796147,\n",
       "       13095.86148458,  3565.99994596,  1798.73383055,  7557.02853544,\n",
       "        7246.01767198, 38271.84851448, 12355.61026479,  1458.72228171,\n",
       "       28397.53890284, 37009.84141495, 13087.97391037,  3158.73248209,\n",
       "       16263.12273895,  5157.28397991, 15679.84147541, 25958.31383567,\n",
       "       12440.6034028 ,  5614.87776429,  9321.36121129, 13676.70775357,\n",
       "       26902.27737242,  7623.24948976,  3983.56018728,  1629.28268526,\n",
       "       35193.57122535, 28892.44693957, 37463.10519705, 29198.78659183,\n",
       "        8590.07980231, 33573.53248387,  1090.52150285,  6946.44199501,\n",
       "        4689.47975168,  4550.96460414, 10774.97344351,  8394.23154472,\n",
       "        3027.805408  , 35212.96783221, 26813.97859561, 12038.41556655,\n",
       "       15101.64890829, 29422.43448169, 12747.98683138, 29038.74568724,\n",
       "        5299.57035407, 28625.66098037,  8801.81259501,  7857.09321961,\n",
       "       12432.0099747 , 12295.04295319,  9136.74780847, 10416.88096007,\n",
       "       10840.55065933, 15122.00223659,  1400.28641274,  8041.72894614,\n",
       "        9276.29485325,  1650.18031088, 15266.77614014, 11434.92719104,\n",
       "        5591.89722139,   484.62011473,  9825.8567343 ,  2227.75392409,\n",
       "       11102.71436214, 34566.09644366,  9471.99879621,  9596.07621525,\n",
       "        3795.58993256,  3526.97961043, 29675.72046639,  7797.24219512,\n",
       "        5242.58925274,  9658.45357534,  1200.46161277,  6464.12214013,\n",
       "       12017.60843028, 14220.0388877 , 29928.74587134,  8982.0385861 ,\n",
       "       15176.19195189,  9761.45725242, 12837.94320325,  7261.50218354,\n",
       "       33833.53240374,  9762.4202402 ,  7334.28436126, 15442.69951302,\n",
       "       10925.67394814, 39128.66221286,  4925.2133132 , 13038.46056007,\n",
       "        5524.90156876, 13609.13051173,  7311.43431796, 10618.60686898,\n",
       "        4125.78011406, 13571.05962463, 11782.70959539, 29157.53602984,\n",
       "       24528.08569785,  1142.69015243, 29627.04072938, 10177.08988084,\n",
       "        3159.30161424,  8365.02391558, 23827.75889151,  9555.57950401,\n",
       "        5654.40280255, 30857.17319761, 30062.21199099, 30442.17101971,\n",
       "        4956.38215511, 31013.10141746,  9773.72500121,  1583.22854874,\n",
       "       30440.51697559,  9109.35890262,  7519.08849992,   496.16687847,\n",
       "        7578.20809096,  8753.5747987 ,  8983.48240367, 32197.16297859,\n",
       "       36321.08995563,  8185.9432234 ,  9027.87864059,  9214.87791765,\n",
       "        5289.24122748, 32122.67275692, 14343.26151929, 12836.79051568,\n",
       "        3047.0151054 ,  1959.91802978, 33018.50760755, 14438.8627008 ,\n",
       "       10932.64378416,  6455.96248878,  7075.25169477,  5145.23415691,\n",
       "        3123.87120304, 13757.36971488,  2608.89914825,  6854.45754946,\n",
       "        2476.31351479, 15097.55598807,  3943.44490679, 11103.65746327,\n",
       "        7107.21619479])"
      ]
     },
     "execution_count": 96,
     "metadata": {},
     "output_type": "execute_result"
    }
   ],
   "source": [
    "final_predictions = y_pred_test\n",
    "final_predictions"
   ]
  },
  {
   "cell_type": "code",
   "execution_count": 97,
   "metadata": {},
   "outputs": [
    {
     "data": {
      "text/plain": [
       "array([14815.47590687,  8220.90188218,  6578.03489714, 25875.76419657,\n",
       "       14974.52526154,  6564.33729942, 41158.62548118, 17778.03403599,\n",
       "       17731.76555524, 46202.45380363,  5743.56857841,  5989.7932041 ,\n",
       "       25269.18831751, 11776.73815432,  8790.62359666, 10677.40390801,\n",
       "        2981.4296184 ,  1724.63125213,  7373.1164883 ,  6186.34061152,\n",
       "       14996.95557955, 24697.08410367, 12938.62079661, 11167.69854935,\n",
       "       11043.54818075,  2974.85998996,  7600.80172235, 14756.03469097,\n",
       "       13842.29412952,  2070.98922536,  4586.08948081, 12469.29772081,\n",
       "       10536.97706147, 11439.70710288, 12691.28900193,  8002.66662447,\n",
       "       11903.60062817,  9126.95784873,  6252.04449563,  6157.34483563,\n",
       "        9117.70831533, 18328.82424689, 12211.91692453,  3515.63054166,\n",
       "       19216.57047675, 42009.98569482,  7441.49768849,  2880.72311809,\n",
       "        5617.2264389 , 46129.46924143, 17779.64845644, 12267.7027461 ,\n",
       "       10378.35045967, 13275.90203947, 16905.6454134 , 18422.49913265,\n",
       "       36757.28775668, 11308.66435837,  9950.35010026,  5950.58046488,\n",
       "        7460.24428731,  5361.34593038, 10135.79681601,  8917.78044441,\n",
       "       44010.93899851, 12911.02550911,  9211.90551259, 11572.04192546,\n",
       "        5593.74626158,  6761.51173347,  9001.97137132,  4456.6945968 ,\n",
       "        2050.05368695, 18866.01457144, 25294.5261349 ,  5587.68582413,\n",
       "        4044.44876197, 12218.78506577,  4029.32739071, 10742.67102827,\n",
       "       37285.63787102,  8447.08824645,  5014.75764686,  5958.05949146,\n",
       "       14899.11389844, 17571.87356055,  7813.63897673,  6666.04675345,\n",
       "       36889.47789496, 25878.6207115 , 11755.69652174,  6052.2348894 ,\n",
       "        3360.4756489 , 46641.67220369,  3961.87206345, 46669.08252161,\n",
       "        5016.3080884 , 10734.46228988,  1705.5555648 ,  5118.59742489,\n",
       "       14863.58968046, 14454.70825051, 13125.99432667, 12255.12441071,\n",
       "        5686.87544253, 21867.36089455,  7874.14160125, 14481.11815551,\n",
       "        6249.5099276 ,  2481.32366206,  2732.35140273,  5399.51083469,\n",
       "       12301.07678414,  7253.94732985, 11914.87180383,  5220.69266597,\n",
       "       12759.80378211, 19821.21291163, 10584.62171956,  7516.51789371,\n",
       "       42008.86721086, 10955.12200832, 14863.48791537, 14505.28482705,\n",
       "        9765.76888957,  7472.59099712, 11919.00383792, 13774.12350033,\n",
       "       12497.32625096,  2284.50189461, 14189.31936854,  4633.28758604,\n",
       "        5787.02169265, 40504.50503677,  6394.54464629,  4909.90546426,\n",
       "        7213.29121039, 11112.22784621, 19260.9266561 ,  3227.99738861,\n",
       "       44552.83469341,  3971.77577117, 11301.12729268,  5722.99996046,\n",
       "        2581.06591752,  2473.96027632,  2836.11267341,  6694.0885228 ,\n",
       "        8852.70536085,  7155.57955147, 13780.77204259,  5631.32807136,\n",
       "        6685.52143622,  4914.39896227, 44295.61599702,  5771.14136303,\n",
       "       10459.80097059,  5252.99516033, 14224.70577197,  6000.71400323,\n",
       "        6139.15297049, 10823.46952629,  7098.71709843, 12869.13746541,\n",
       "       11305.60656119,  7674.05276851, 37169.61366986,  6156.52213689,\n",
       "       14597.92668546, 36881.01472724, 36385.13916564,  7258.93846393,\n",
       "       19863.02556537, 36099.73236681,  2513.19166229,  7368.35284782,\n",
       "       10170.28805368, 47166.96646527, 11184.93132187,  7278.70450718,\n",
       "       13090.80677258,  3360.4756489 , 25872.95188803, 16750.8351015 ,\n",
       "        8066.06967086, 12448.50191582, 25249.1826045 , 36459.75869835,\n",
       "        4348.18644383, 17386.55280251,  5240.60680513,  7050.73522155,\n",
       "        5126.36328703,  7131.51514493,  6470.66102342, 18236.93808348,\n",
       "        5880.4973573 , 14419.69853583,  8992.66025053, 42469.41226208,\n",
       "        8706.00253123])"
      ]
     },
     "execution_count": 97,
     "metadata": {},
     "output_type": "execute_result"
    }
   ],
   "source": [
    "final_predictions_rf = y_pred_rf_test_\n",
    "final_predictions_rf"
   ]
  },
  {
   "cell_type": "code",
   "execution_count": 98,
   "metadata": {},
   "outputs": [
    {
     "data": {
      "text/plain": [
       "{'id': RangeIndex(start=0, stop=335, step=1),\n",
       " 'charges': array([14815.47590687,  8220.90188218,  6578.03489714, 25875.76419657,\n",
       "        14974.52526154,  6564.33729942, 41158.62548118, 17778.03403599,\n",
       "        17731.76555524, 46202.45380363,  5743.56857841,  5989.7932041 ,\n",
       "        25269.18831751, 11776.73815432,  8790.62359666, 10677.40390801,\n",
       "         2981.4296184 ,  1724.63125213,  7373.1164883 ,  6186.34061152,\n",
       "        14996.95557955, 24697.08410367, 12938.62079661, 11167.69854935,\n",
       "        11043.54818075,  2974.85998996,  7600.80172235, 14756.03469097,\n",
       "        13842.29412952,  2070.98922536,  4586.08948081, 12469.29772081,\n",
       "        10536.97706147, 11439.70710288, 12691.28900193,  8002.66662447,\n",
       "        11903.60062817,  9126.95784873,  6252.04449563,  6157.34483563,\n",
       "         9117.70831533, 18328.82424689, 12211.91692453,  3515.63054166,\n",
       "        19216.57047675, 42009.98569482,  7441.49768849,  2880.72311809,\n",
       "         5617.2264389 , 46129.46924143, 17779.64845644, 12267.7027461 ,\n",
       "        10378.35045967, 13275.90203947, 16905.6454134 , 18422.49913265,\n",
       "        36757.28775668, 11308.66435837,  9950.35010026,  5950.58046488,\n",
       "         7460.24428731,  5361.34593038, 10135.79681601,  8917.78044441,\n",
       "        44010.93899851, 12911.02550911,  9211.90551259, 11572.04192546,\n",
       "         5593.74626158,  6761.51173347,  9001.97137132,  4456.6945968 ,\n",
       "         2050.05368695, 18866.01457144, 25294.5261349 ,  5587.68582413,\n",
       "         4044.44876197, 12218.78506577,  4029.32739071, 10742.67102827,\n",
       "        37285.63787102,  8447.08824645,  5014.75764686,  5958.05949146,\n",
       "        14899.11389844, 17571.87356055,  7813.63897673,  6666.04675345,\n",
       "        36889.47789496, 25878.6207115 , 11755.69652174,  6052.2348894 ,\n",
       "         3360.4756489 , 46641.67220369,  3961.87206345, 46669.08252161,\n",
       "         5016.3080884 , 10734.46228988,  1705.5555648 ,  5118.59742489,\n",
       "        14863.58968046, 14454.70825051, 13125.99432667, 12255.12441071,\n",
       "         5686.87544253, 21867.36089455,  7874.14160125, 14481.11815551,\n",
       "         6249.5099276 ,  2481.32366206,  2732.35140273,  5399.51083469,\n",
       "        12301.07678414,  7253.94732985, 11914.87180383,  5220.69266597,\n",
       "        12759.80378211, 19821.21291163, 10584.62171956,  7516.51789371,\n",
       "        42008.86721086, 10955.12200832, 14863.48791537, 14505.28482705,\n",
       "         9765.76888957,  7472.59099712, 11919.00383792, 13774.12350033,\n",
       "        12497.32625096,  2284.50189461, 14189.31936854,  4633.28758604,\n",
       "         5787.02169265, 40504.50503677,  6394.54464629,  4909.90546426,\n",
       "         7213.29121039, 11112.22784621, 19260.9266561 ,  3227.99738861,\n",
       "        44552.83469341,  3971.77577117, 11301.12729268,  5722.99996046,\n",
       "         2581.06591752,  2473.96027632,  2836.11267341,  6694.0885228 ,\n",
       "         8852.70536085,  7155.57955147, 13780.77204259,  5631.32807136,\n",
       "         6685.52143622,  4914.39896227, 44295.61599702,  5771.14136303,\n",
       "        10459.80097059,  5252.99516033, 14224.70577197,  6000.71400323,\n",
       "         6139.15297049, 10823.46952629,  7098.71709843, 12869.13746541,\n",
       "        11305.60656119,  7674.05276851, 37169.61366986,  6156.52213689,\n",
       "        14597.92668546, 36881.01472724, 36385.13916564,  7258.93846393,\n",
       "        19863.02556537, 36099.73236681,  2513.19166229,  7368.35284782,\n",
       "        10170.28805368, 47166.96646527, 11184.93132187,  7278.70450718,\n",
       "        13090.80677258,  3360.4756489 , 25872.95188803, 16750.8351015 ,\n",
       "         8066.06967086, 12448.50191582, 25249.1826045 , 36459.75869835,\n",
       "         4348.18644383, 17386.55280251,  5240.60680513,  7050.73522155,\n",
       "         5126.36328703,  7131.51514493,  6470.66102342, 18236.93808348,\n",
       "         5880.4973573 , 14419.69853583,  8992.66025053, 42469.41226208,\n",
       "         8706.00253123])}"
      ]
     },
     "execution_count": 98,
     "metadata": {},
     "output_type": "execute_result"
    }
   ],
   "source": [
    "output_rf = {'id':df_test.index, 'charges':y_pred_rf_test_}\n",
    "output_rf"
   ]
  },
  {
   "cell_type": "code",
   "execution_count": 103,
   "metadata": {},
   "outputs": [
    {
     "data": {
      "text/html": [
       "<div>\n",
       "<style scoped>\n",
       "    .dataframe tbody tr th:only-of-type {\n",
       "        vertical-align: middle;\n",
       "    }\n",
       "\n",
       "    .dataframe tbody tr th {\n",
       "        vertical-align: top;\n",
       "    }\n",
       "\n",
       "    .dataframe thead th {\n",
       "        text-align: right;\n",
       "    }\n",
       "</style>\n",
       "<table border=\"1\" class=\"dataframe\">\n",
       "  <thead>\n",
       "    <tr style=\"text-align: right;\">\n",
       "      <th></th>\n",
       "      <th>0</th>\n",
       "      <th>1</th>\n",
       "      <th>2</th>\n",
       "      <th>3</th>\n",
       "      <th>4</th>\n",
       "      <th>5</th>\n",
       "      <th>6</th>\n",
       "      <th>7</th>\n",
       "      <th>8</th>\n",
       "      <th>9</th>\n",
       "      <th>...</th>\n",
       "      <th>325</th>\n",
       "      <th>326</th>\n",
       "      <th>327</th>\n",
       "      <th>328</th>\n",
       "      <th>329</th>\n",
       "      <th>330</th>\n",
       "      <th>331</th>\n",
       "      <th>332</th>\n",
       "      <th>333</th>\n",
       "      <th>334</th>\n",
       "    </tr>\n",
       "  </thead>\n",
       "  <tbody>\n",
       "    <tr>\n",
       "      <th>id</th>\n",
       "      <td>0.000000</td>\n",
       "      <td>1.000000</td>\n",
       "      <td>2.000000</td>\n",
       "      <td>3.000000</td>\n",
       "      <td>4.000000</td>\n",
       "      <td>5.000000</td>\n",
       "      <td>6.000000</td>\n",
       "      <td>7.000000</td>\n",
       "      <td>8.000000</td>\n",
       "      <td>9.000000</td>\n",
       "      <td>...</td>\n",
       "      <td>325.0</td>\n",
       "      <td>326.0</td>\n",
       "      <td>327.0</td>\n",
       "      <td>328.0</td>\n",
       "      <td>329.0</td>\n",
       "      <td>330.0</td>\n",
       "      <td>331.0</td>\n",
       "      <td>332.0</td>\n",
       "      <td>333.0</td>\n",
       "      <td>334.0</td>\n",
       "    </tr>\n",
       "    <tr>\n",
       "      <th>charges</th>\n",
       "      <td>14815.475907</td>\n",
       "      <td>8220.901882</td>\n",
       "      <td>6578.034897</td>\n",
       "      <td>25875.764197</td>\n",
       "      <td>14974.525262</td>\n",
       "      <td>6564.337299</td>\n",
       "      <td>41158.625481</td>\n",
       "      <td>17778.034036</td>\n",
       "      <td>17731.765555</td>\n",
       "      <td>46202.453804</td>\n",
       "      <td>...</td>\n",
       "      <td>NaN</td>\n",
       "      <td>NaN</td>\n",
       "      <td>NaN</td>\n",
       "      <td>NaN</td>\n",
       "      <td>NaN</td>\n",
       "      <td>NaN</td>\n",
       "      <td>NaN</td>\n",
       "      <td>NaN</td>\n",
       "      <td>NaN</td>\n",
       "      <td>NaN</td>\n",
       "    </tr>\n",
       "  </tbody>\n",
       "</table>\n",
       "<p>2 rows × 335 columns</p>\n",
       "</div>"
      ],
      "text/plain": [
       "                  0            1            2             3             4    \\\n",
       "id           0.000000     1.000000     2.000000      3.000000      4.000000   \n",
       "charges  14815.475907  8220.901882  6578.034897  25875.764197  14974.525262   \n",
       "\n",
       "                 5             6             7             8             9    \\\n",
       "id          5.000000      6.000000      7.000000      8.000000      9.000000   \n",
       "charges  6564.337299  41158.625481  17778.034036  17731.765555  46202.453804   \n",
       "\n",
       "         ...    325    326    327    328    329    330    331    332    333  \\\n",
       "id       ...  325.0  326.0  327.0  328.0  329.0  330.0  331.0  332.0  333.0   \n",
       "charges  ...    NaN    NaN    NaN    NaN    NaN    NaN    NaN    NaN    NaN   \n",
       "\n",
       "           334  \n",
       "id       334.0  \n",
       "charges    NaN  \n",
       "\n",
       "[2 rows x 335 columns]"
      ]
     },
     "execution_count": 103,
     "metadata": {},
     "output_type": "execute_result"
    }
   ],
   "source": [
    "df_rf=pd.DataFrame.from_dict(output_rf, orient='index')\n",
    "df_rf"
   ]
  },
  {
   "cell_type": "code",
   "execution_count": 104,
   "metadata": {},
   "outputs": [
    {
     "data": {
      "text/html": [
       "<div>\n",
       "<style scoped>\n",
       "    .dataframe tbody tr th:only-of-type {\n",
       "        vertical-align: middle;\n",
       "    }\n",
       "\n",
       "    .dataframe tbody tr th {\n",
       "        vertical-align: top;\n",
       "    }\n",
       "\n",
       "    .dataframe thead th {\n",
       "        text-align: right;\n",
       "    }\n",
       "</style>\n",
       "<table border=\"1\" class=\"dataframe\">\n",
       "  <thead>\n",
       "    <tr style=\"text-align: right;\">\n",
       "      <th></th>\n",
       "      <th>id</th>\n",
       "      <th>charges</th>\n",
       "    </tr>\n",
       "  </thead>\n",
       "  <tbody>\n",
       "    <tr>\n",
       "      <th>0</th>\n",
       "      <td>0.0</td>\n",
       "      <td>14815.475907</td>\n",
       "    </tr>\n",
       "    <tr>\n",
       "      <th>1</th>\n",
       "      <td>1.0</td>\n",
       "      <td>8220.901882</td>\n",
       "    </tr>\n",
       "    <tr>\n",
       "      <th>2</th>\n",
       "      <td>2.0</td>\n",
       "      <td>6578.034897</td>\n",
       "    </tr>\n",
       "    <tr>\n",
       "      <th>3</th>\n",
       "      <td>3.0</td>\n",
       "      <td>25875.764197</td>\n",
       "    </tr>\n",
       "    <tr>\n",
       "      <th>4</th>\n",
       "      <td>4.0</td>\n",
       "      <td>14974.525262</td>\n",
       "    </tr>\n",
       "    <tr>\n",
       "      <th>...</th>\n",
       "      <td>...</td>\n",
       "      <td>...</td>\n",
       "    </tr>\n",
       "    <tr>\n",
       "      <th>330</th>\n",
       "      <td>330.0</td>\n",
       "      <td>NaN</td>\n",
       "    </tr>\n",
       "    <tr>\n",
       "      <th>331</th>\n",
       "      <td>331.0</td>\n",
       "      <td>NaN</td>\n",
       "    </tr>\n",
       "    <tr>\n",
       "      <th>332</th>\n",
       "      <td>332.0</td>\n",
       "      <td>NaN</td>\n",
       "    </tr>\n",
       "    <tr>\n",
       "      <th>333</th>\n",
       "      <td>333.0</td>\n",
       "      <td>NaN</td>\n",
       "    </tr>\n",
       "    <tr>\n",
       "      <th>334</th>\n",
       "      <td>334.0</td>\n",
       "      <td>NaN</td>\n",
       "    </tr>\n",
       "  </tbody>\n",
       "</table>\n",
       "<p>335 rows × 2 columns</p>\n",
       "</div>"
      ],
      "text/plain": [
       "        id       charges\n",
       "0      0.0  14815.475907\n",
       "1      1.0   8220.901882\n",
       "2      2.0   6578.034897\n",
       "3      3.0  25875.764197\n",
       "4      4.0  14974.525262\n",
       "..     ...           ...\n",
       "330  330.0           NaN\n",
       "331  331.0           NaN\n",
       "332  332.0           NaN\n",
       "333  333.0           NaN\n",
       "334  334.0           NaN\n",
       "\n",
       "[335 rows x 2 columns]"
      ]
     },
     "execution_count": 104,
     "metadata": {},
     "output_type": "execute_result"
    }
   ],
   "source": [
    "df_rf.transpose()"
   ]
  },
  {
   "cell_type": "code",
   "execution_count": 107,
   "metadata": {},
   "outputs": [],
   "source": [
    "file_rf= df_rf.transpose().to_csv('Medical Cost Prediction.csv', index=False, header=False)\n",
    "file_rf"
   ]
  },
  {
   "cell_type": "code",
   "execution_count": null,
   "metadata": {},
   "outputs": [],
   "source": []
  }
 ],
 "metadata": {
  "kernelspec": {
   "display_name": "Python 3",
   "language": "python",
   "name": "python3"
  },
  "language_info": {
   "codemirror_mode": {
    "name": "ipython",
    "version": 3
   },
   "file_extension": ".py",
   "mimetype": "text/x-python",
   "name": "python",
   "nbconvert_exporter": "python",
   "pygments_lexer": "ipython3",
   "version": "3.8.3"
  }
 },
 "nbformat": 4,
 "nbformat_minor": 4
}
